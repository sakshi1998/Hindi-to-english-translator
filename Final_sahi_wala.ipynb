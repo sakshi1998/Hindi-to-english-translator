{
  "nbformat": 4,
  "nbformat_minor": 0,
  "metadata": {
    "colab": {
      "name": "Final_sahi_wala.ipynb",
      "version": "0.3.2",
      "provenance": [],
      "collapsed_sections": [],
      "include_colab_link": true
    },
    "kernelspec": {
      "name": "python3",
      "display_name": "Python 3"
    },
    "accelerator": "GPU"
  },
  "cells": [
    {
      "cell_type": "markdown",
      "metadata": {
        "id": "view-in-github",
        "colab_type": "text"
      },
      "source": [
        "<a href=\"https://colab.research.google.com/github/sakshi1998/Hindi-to-english-translator/blob/master/Final_sahi_wala.ipynb\" target=\"_parent\"><img src=\"https://colab.research.google.com/assets/colab-badge.svg\" alt=\"Open In Colab\"/></a>"
      ]
    },
    {
      "metadata": {
        "id": "rAxH-EEEhSw-",
        "colab_type": "code",
        "colab": {}
      },
      "cell_type": "code",
      "source": [
        "import numpy as np\n",
        "import pandas as pd"
      ],
      "execution_count": 0,
      "outputs": []
    },
    {
      "metadata": {
        "id": "MEI98SVziMkE",
        "colab_type": "code",
        "outputId": "495199c4-ef33-48dc-a67f-9464ad7533de",
        "colab": {
          "base_uri": "https://localhost:8080/",
          "height": 34
        }
      },
      "cell_type": "code",
      "source": [
        "from google.colab import drive\n",
        "drive.mount('/content/drive')"
      ],
      "execution_count": 0,
      "outputs": [
        {
          "output_type": "stream",
          "text": [
            "Drive already mounted at /content/drive; to attempt to forcibly remount, call drive.mount(\"/content/drive\", force_remount=True).\n"
          ],
          "name": "stdout"
        }
      ]
    },
    {
      "metadata": {
        "id": "KLbpw78fiQ2a",
        "colab_type": "code",
        "outputId": "ab291744-339d-4910-cee2-fed45483fd54",
        "colab": {
          "base_uri": "https://localhost:8080/",
          "height": 69
        }
      },
      "cell_type": "code",
      "source": [
        "import nltk\n",
        "nltk.download('punkt')"
      ],
      "execution_count": 0,
      "outputs": [
        {
          "output_type": "stream",
          "text": [
            "[nltk_data] Downloading package punkt to /root/nltk_data...\n",
            "[nltk_data]   Package punkt is already up-to-date!\n"
          ],
          "name": "stdout"
        },
        {
          "output_type": "execute_result",
          "data": {
            "text/plain": [
              "True"
            ]
          },
          "metadata": {
            "tags": []
          },
          "execution_count": 4
        }
      ]
    },
    {
      "metadata": {
        "id": "EtMn0zS4j4Yz",
        "colab_type": "code",
        "outputId": "69f0052e-45a3-4a92-b784-a5b7d24481ae",
        "colab": {
          "base_uri": "https://localhost:8080/",
          "height": 69
        }
      },
      "cell_type": "code",
      "source": [
        "import nltk\n",
        "nltk.download('stopwords')"
      ],
      "execution_count": 0,
      "outputs": [
        {
          "output_type": "stream",
          "text": [
            "[nltk_data] Downloading package stopwords to /root/nltk_data...\n",
            "[nltk_data]   Package stopwords is already up-to-date!\n"
          ],
          "name": "stdout"
        },
        {
          "output_type": "execute_result",
          "data": {
            "text/plain": [
              "True"
            ]
          },
          "metadata": {
            "tags": []
          },
          "execution_count": 5
        }
      ]
    },
    {
      "metadata": {
        "id": "l_7scckcihpp",
        "colab_type": "code",
        "outputId": "acc80c00-0d8a-4d47-d567-1258a9084880",
        "colab": {
          "base_uri": "https://localhost:8080/",
          "height": 350
        }
      },
      "cell_type": "code",
      "source": [
        "!pip install -U gensim"
      ],
      "execution_count": 0,
      "outputs": [
        {
          "output_type": "stream",
          "text": [
            "Requirement already up-to-date: gensim in /usr/local/lib/python3.6/dist-packages (3.6.0)\n",
            "Requirement already satisfied, skipping upgrade: scipy>=0.18.1 in /usr/local/lib/python3.6/dist-packages (from gensim) (1.1.0)\n",
            "Requirement already satisfied, skipping upgrade: six>=1.5.0 in /usr/local/lib/python3.6/dist-packages (from gensim) (1.11.0)\n",
            "Requirement already satisfied, skipping upgrade: numpy>=1.11.3 in /usr/local/lib/python3.6/dist-packages (from gensim) (1.14.6)\n",
            "Requirement already satisfied, skipping upgrade: smart-open>=1.2.1 in /usr/local/lib/python3.6/dist-packages (from gensim) (1.7.1)\n",
            "Requirement already satisfied, skipping upgrade: boto>=2.32 in /usr/local/lib/python3.6/dist-packages (from smart-open>=1.2.1->gensim) (2.49.0)\n",
            "Requirement already satisfied, skipping upgrade: boto3 in /usr/local/lib/python3.6/dist-packages (from smart-open>=1.2.1->gensim) (1.9.62)\n",
            "Requirement already satisfied, skipping upgrade: requests in /usr/local/lib/python3.6/dist-packages (from smart-open>=1.2.1->gensim) (2.18.4)\n",
            "Requirement already satisfied, skipping upgrade: bz2file in /usr/local/lib/python3.6/dist-packages (from smart-open>=1.2.1->gensim) (0.98)\n",
            "Requirement already satisfied, skipping upgrade: botocore<1.13.0,>=1.12.62 in /usr/local/lib/python3.6/dist-packages (from boto3->smart-open>=1.2.1->gensim) (1.12.62)\n",
            "Requirement already satisfied, skipping upgrade: s3transfer<0.2.0,>=0.1.10 in /usr/local/lib/python3.6/dist-packages (from boto3->smart-open>=1.2.1->gensim) (0.1.13)\n",
            "Requirement already satisfied, skipping upgrade: jmespath<1.0.0,>=0.7.1 in /usr/local/lib/python3.6/dist-packages (from boto3->smart-open>=1.2.1->gensim) (0.9.3)\n",
            "Requirement already satisfied, skipping upgrade: urllib3<1.23,>=1.21.1 in /usr/local/lib/python3.6/dist-packages (from requests->smart-open>=1.2.1->gensim) (1.22)\n",
            "Requirement already satisfied, skipping upgrade: chardet<3.1.0,>=3.0.2 in /usr/local/lib/python3.6/dist-packages (from requests->smart-open>=1.2.1->gensim) (3.0.4)\n",
            "Requirement already satisfied, skipping upgrade: certifi>=2017.4.17 in /usr/local/lib/python3.6/dist-packages (from requests->smart-open>=1.2.1->gensim) (2018.11.29)\n",
            "Requirement already satisfied, skipping upgrade: idna<2.7,>=2.5 in /usr/local/lib/python3.6/dist-packages (from requests->smart-open>=1.2.1->gensim) (2.6)\n",
            "Requirement already satisfied, skipping upgrade: docutils>=0.10 in /usr/local/lib/python3.6/dist-packages (from botocore<1.13.0,>=1.12.62->boto3->smart-open>=1.2.1->gensim) (0.14)\n",
            "Requirement already satisfied, skipping upgrade: python-dateutil<3.0.0,>=2.1; python_version >= \"2.7\" in /usr/local/lib/python3.6/dist-packages (from botocore<1.13.0,>=1.12.62->boto3->smart-open>=1.2.1->gensim) (2.5.3)\n"
          ],
          "name": "stdout"
        }
      ]
    },
    {
      "metadata": {
        "id": "NmwaBKFaih8h",
        "colab_type": "code",
        "colab": {}
      },
      "cell_type": "code",
      "source": [
        "file = open('drive/My Drive/inputengsentences(1).txt', 'r')"
      ],
      "execution_count": 0,
      "outputs": []
    },
    {
      "metadata": {
        "id": "RUCnK39Wjb-g",
        "colab_type": "code",
        "colab": {}
      },
      "cell_type": "code",
      "source": [
        "file = file.read()"
      ],
      "execution_count": 0,
      "outputs": []
    },
    {
      "metadata": {
        "id": "2sC6XKWUjdOQ",
        "colab_type": "code",
        "outputId": "c0b58642-3061-4ae8-d27a-a972e952af9c",
        "colab": {
          "base_uri": "https://localhost:8080/",
          "height": 54
        }
      },
      "cell_type": "code",
      "source": [
        "file"
      ],
      "execution_count": 0,
      "outputs": [
        {
          "output_type": "execute_result",
          "data": {
            "text/plain": [
              "\"Fresh breath and shining teeth enhance your  personality.\\t\\t\\t\\t\\t\\t\\t\\t\\t\\t\\t\\t\\t\\tYour self-confidence also increases with teeth.\\t\\t\\t\\t\\t\\t\\t\\t\\t\\t\\t\\t\\t\\t\\t\\nBacteria stay between  our gums and teeth.\\t\\t\\t\\t\\t\\t\\t\\t\\t\\t\\t\\t\\t\\t\\t\\nThey make  teeth dirty and breath stinky.\\t\\t\\t\\t\\t\\t\\t\\t\\t\\t\\t\\t\\t\\t\\t\\nYou may keep your teeth clean and breath fresh by the help of some easy tips  given here.\\t\\t\\t\\t\\t\\t\\t\\t\\t\\t\\tClean your teeth properly.\\t\\t\\t\\t\\t\\t\\t\\t\\t\\t\\t\\t\\t\\t\\t\\nIt takes two to three minutes to clean your teeth properly.\\nBut most of the people give less than one minute for this.\\t\\t\\t\\t\\t\\t\\t\\t\\t\\t\\t\\t\\t\\tDrink plenty of water.\\t\\t\\t\\t\\t\\t\\t\\t\\t\\t\\t\\t\\t\\t\\t\\t\\t\\nBacterial attack fast if the mouth dries up .\\t\\t\\t\\t\\t\\t\\t\\t\\t\\t\\t\\t\\t\\t\\t\\tWith this stink come from breath.\\t\\t\\t\\t\\t\\t\\t\\t\\t\\t\\t\\t\\t\\t\\t\\tBy drinking plenty of water not only the left-over pieces of food gets cleaned but saliva also gets formed.\\t\\t\\t\\t\\t\\t\\t\\t\\t\\tSaliva has important role in keeping the mouth clean.\\t\\t\\t\\t\\t\\t\\t\\t\\t\\t\\t\\t\\t\\t\\tSaliva destroys those bacteria which create stink in breath.\\t\\t\\t\\t\\t\\t\\t\\t\\t\\t\\t\\t\\tChew the sugar-free chewing gum.\\t\\nSaliva is formed by chewing the chewing gum.\\t\\t\\t\\t\\t\\t\\t\\t\\t\\t\\t\\t\\nChewing gum helps in keeping the teeth clean.\\t\\t\\t\\t\\t\\t\\t\\t\\t\\t\\t\\t\\nSugared chewing gum is not supposed to be good for health.\\t\\t\\t\\t\\t\\t\\t\\t\\t\\t\\t\\nThat is dentists do not suggest chewing sugared chewing gum.\\t\\t\\t\\t\\t\\t\\t\\t\\t\\t\\t\\t\\nGet the teeth checked-up regularly.\\t\\t\\t\\t\\t\\t\\t\\t\\t\\t\\t\\t\\nGet the teeth checked-up with the dentists regularly.\\t\\t\\t\\t\\t\\t\\t\\t\\t\\t\\t\\t\\nThey solve small problems of the teeth easily.\\t\\t\\t\\t\\t\\t\\t\\t\\t\\t\\t\\t\\nClean the mouth after meal.\\t\\t\\t\\t\\t\\t\\t\\t\\t\\t\\t\\t\\nDo clean the mouth every time with water after eating.\\nThe left-over pieces of food is cleaned by it.\\nClean the teeth with the mixture of lemon and salt.\\nTaking a spoon of salt pour three to four drops of lemon juice in that.\\nClean the teeth every week with this mixture.\\nNot only teeth starts shining with this.\\nBut one also gets relief from stinking breath.\\nIf there is health there is everything.\\nIt is not less than a challenge to keep oneself healthy in today's busy life.\\nBut you can keep yourself healthy by paying attention to your food habits and by bringing a little change in your lifestyle.\\nEat less fatty food.\\nEat only that food in which there is less fat and more fiber.\\nFruits and vegetables have a ratio like this.\\nWe get helped in controlling our weight by taking less fatty and fibered food.\\nYou keep yourself far from many diseases by eating less fatty and fibered food.\\nTake less salt and alcohol\\nTake the least quantity of salt and alcohol to control blood pressure and cholesterol.\\nStop smoking.\\nThere is a danger of several diseases including cancer with smoking.\\nTry your best to quit it.\\nExercise daily.\\nYou must include exercise in your daily routine.\\nYou can prevent heart diseases , colon cancer , blood pressure and diabetes like diseases by regular exercise.\\nKeep doing light physical activities.\\nKeep doing small physical activities like climbing stairs , gardening , small domestic works or dancing.\\nThese retain the flexibility in the body.\\nIf fever comes continuously you must get it checked up.\\n\\t\\t\\t\\t\\t\\t\\t\\t\\t\\t\\t\\t\\n\\n\\t\\t\\t\\t\\t\\t\\t\\t\\t\\t\\t\\t\\t\\t\\t\\n\\t\\t\\t\\t\\t\\t\\t\\t\\t\\t\\t\\t\\t\\t\\n\""
            ]
          },
          "metadata": {
            "tags": []
          },
          "execution_count": 9
        }
      ]
    },
    {
      "metadata": {
        "id": "MY9eLLK8jduf",
        "colab_type": "code",
        "colab": {}
      },
      "cell_type": "code",
      "source": [
        "  \n",
        "# importing all necessary modules \n",
        "from nltk.tokenize import sent_tokenize, word_tokenize \n",
        "import warnings \n",
        "  \n",
        "warnings.filterwarnings(action = 'ignore') \n",
        "  \n",
        "import gensim \n",
        "from gensim.models import Word2Vec "
      ],
      "execution_count": 0,
      "outputs": []
    },
    {
      "metadata": {
        "id": "SFzCRHZ9jlpC",
        "colab_type": "code",
        "colab": {}
      },
      "cell_type": "code",
      "source": [
        "s = file"
      ],
      "execution_count": 0,
      "outputs": []
    },
    {
      "metadata": {
        "id": "g-6r9bmbjpex",
        "colab_type": "code",
        "colab": {}
      },
      "cell_type": "code",
      "source": [
        "# Replaces escape character with space \n",
        "f = s.replace(\"\\n\", \" \")"
      ],
      "execution_count": 0,
      "outputs": []
    },
    {
      "metadata": {
        "id": "33nvdlm8jtRP",
        "colab_type": "code",
        "colab": {}
      },
      "cell_type": "code",
      "source": [
        "#stop words removal\n",
        "import nltk\n",
        "from nltk.corpus import stopwords\n",
        "stop_words=set(stopwords.words('english'))"
      ],
      "execution_count": 0,
      "outputs": []
    },
    {
      "metadata": {
        "id": "iY6kaKE3jtr_",
        "colab_type": "code",
        "colab": {}
      },
      "cell_type": "code",
      "source": [
        "data = [] "
      ],
      "execution_count": 0,
      "outputs": []
    },
    {
      "metadata": {
        "id": "1n-Zcxatj-lf",
        "colab_type": "code",
        "colab": {}
      },
      "cell_type": "code",
      "source": [
        "# iterate through each sentence in the file \n",
        "eng_ind_to_char = {}\n",
        "k=0\n",
        "\n",
        "for i in sent_tokenize(f): \n",
        "    temp = [] \n",
        "    # tokenize the sentence into words \n",
        "    for j in word_tokenize(i): \n",
        "          temp.append(j.lower())\n",
        "          eng_ind_to_char[k] = j.lower()\n",
        "          k=k+1\n",
        "  \n",
        "    data.append(temp)"
      ],
      "execution_count": 0,
      "outputs": []
    },
    {
      "metadata": {
        "id": "-6VKdTBj8zvC",
        "colab_type": "code",
        "outputId": "640034bb-1532-4d1b-bfe8-34fa13d315a7",
        "colab": {
          "base_uri": "https://localhost:8080/",
          "height": 8943
        }
      },
      "cell_type": "code",
      "source": [
        "eng_ind_to_char"
      ],
      "execution_count": 0,
      "outputs": [
        {
          "output_type": "execute_result",
          "data": {
            "text/plain": [
              "{0: 'fresh',\n",
              " 1: 'breath',\n",
              " 2: 'and',\n",
              " 3: 'shining',\n",
              " 4: 'teeth',\n",
              " 5: 'enhance',\n",
              " 6: 'your',\n",
              " 7: 'personality',\n",
              " 8: '.',\n",
              " 9: 'your',\n",
              " 10: 'self-confidence',\n",
              " 11: 'also',\n",
              " 12: 'increases',\n",
              " 13: 'with',\n",
              " 14: 'teeth',\n",
              " 15: '.',\n",
              " 16: 'bacteria',\n",
              " 17: 'stay',\n",
              " 18: 'between',\n",
              " 19: 'our',\n",
              " 20: 'gums',\n",
              " 21: 'and',\n",
              " 22: 'teeth',\n",
              " 23: '.',\n",
              " 24: 'they',\n",
              " 25: 'make',\n",
              " 26: 'teeth',\n",
              " 27: 'dirty',\n",
              " 28: 'and',\n",
              " 29: 'breath',\n",
              " 30: 'stinky',\n",
              " 31: '.',\n",
              " 32: 'you',\n",
              " 33: 'may',\n",
              " 34: 'keep',\n",
              " 35: 'your',\n",
              " 36: 'teeth',\n",
              " 37: 'clean',\n",
              " 38: 'and',\n",
              " 39: 'breath',\n",
              " 40: 'fresh',\n",
              " 41: 'by',\n",
              " 42: 'the',\n",
              " 43: 'help',\n",
              " 44: 'of',\n",
              " 45: 'some',\n",
              " 46: 'easy',\n",
              " 47: 'tips',\n",
              " 48: 'given',\n",
              " 49: 'here',\n",
              " 50: '.',\n",
              " 51: 'clean',\n",
              " 52: 'your',\n",
              " 53: 'teeth',\n",
              " 54: 'properly',\n",
              " 55: '.',\n",
              " 56: 'it',\n",
              " 57: 'takes',\n",
              " 58: 'two',\n",
              " 59: 'to',\n",
              " 60: 'three',\n",
              " 61: 'minutes',\n",
              " 62: 'to',\n",
              " 63: 'clean',\n",
              " 64: 'your',\n",
              " 65: 'teeth',\n",
              " 66: 'properly',\n",
              " 67: '.',\n",
              " 68: 'but',\n",
              " 69: 'most',\n",
              " 70: 'of',\n",
              " 71: 'the',\n",
              " 72: 'people',\n",
              " 73: 'give',\n",
              " 74: 'less',\n",
              " 75: 'than',\n",
              " 76: 'one',\n",
              " 77: 'minute',\n",
              " 78: 'for',\n",
              " 79: 'this',\n",
              " 80: '.',\n",
              " 81: 'drink',\n",
              " 82: 'plenty',\n",
              " 83: 'of',\n",
              " 84: 'water',\n",
              " 85: '.',\n",
              " 86: 'bacterial',\n",
              " 87: 'attack',\n",
              " 88: 'fast',\n",
              " 89: 'if',\n",
              " 90: 'the',\n",
              " 91: 'mouth',\n",
              " 92: 'dries',\n",
              " 93: 'up',\n",
              " 94: '.',\n",
              " 95: 'with',\n",
              " 96: 'this',\n",
              " 97: 'stink',\n",
              " 98: 'come',\n",
              " 99: 'from',\n",
              " 100: 'breath',\n",
              " 101: '.',\n",
              " 102: 'by',\n",
              " 103: 'drinking',\n",
              " 104: 'plenty',\n",
              " 105: 'of',\n",
              " 106: 'water',\n",
              " 107: 'not',\n",
              " 108: 'only',\n",
              " 109: 'the',\n",
              " 110: 'left-over',\n",
              " 111: 'pieces',\n",
              " 112: 'of',\n",
              " 113: 'food',\n",
              " 114: 'gets',\n",
              " 115: 'cleaned',\n",
              " 116: 'but',\n",
              " 117: 'saliva',\n",
              " 118: 'also',\n",
              " 119: 'gets',\n",
              " 120: 'formed',\n",
              " 121: '.',\n",
              " 122: 'saliva',\n",
              " 123: 'has',\n",
              " 124: 'important',\n",
              " 125: 'role',\n",
              " 126: 'in',\n",
              " 127: 'keeping',\n",
              " 128: 'the',\n",
              " 129: 'mouth',\n",
              " 130: 'clean',\n",
              " 131: '.',\n",
              " 132: 'saliva',\n",
              " 133: 'destroys',\n",
              " 134: 'those',\n",
              " 135: 'bacteria',\n",
              " 136: 'which',\n",
              " 137: 'create',\n",
              " 138: 'stink',\n",
              " 139: 'in',\n",
              " 140: 'breath',\n",
              " 141: '.',\n",
              " 142: 'chew',\n",
              " 143: 'the',\n",
              " 144: 'sugar-free',\n",
              " 145: 'chewing',\n",
              " 146: 'gum',\n",
              " 147: '.',\n",
              " 148: 'saliva',\n",
              " 149: 'is',\n",
              " 150: 'formed',\n",
              " 151: 'by',\n",
              " 152: 'chewing',\n",
              " 153: 'the',\n",
              " 154: 'chewing',\n",
              " 155: 'gum',\n",
              " 156: '.',\n",
              " 157: 'chewing',\n",
              " 158: 'gum',\n",
              " 159: 'helps',\n",
              " 160: 'in',\n",
              " 161: 'keeping',\n",
              " 162: 'the',\n",
              " 163: 'teeth',\n",
              " 164: 'clean',\n",
              " 165: '.',\n",
              " 166: 'sugared',\n",
              " 167: 'chewing',\n",
              " 168: 'gum',\n",
              " 169: 'is',\n",
              " 170: 'not',\n",
              " 171: 'supposed',\n",
              " 172: 'to',\n",
              " 173: 'be',\n",
              " 174: 'good',\n",
              " 175: 'for',\n",
              " 176: 'health',\n",
              " 177: '.',\n",
              " 178: 'that',\n",
              " 179: 'is',\n",
              " 180: 'dentists',\n",
              " 181: 'do',\n",
              " 182: 'not',\n",
              " 183: 'suggest',\n",
              " 184: 'chewing',\n",
              " 185: 'sugared',\n",
              " 186: 'chewing',\n",
              " 187: 'gum',\n",
              " 188: '.',\n",
              " 189: 'get',\n",
              " 190: 'the',\n",
              " 191: 'teeth',\n",
              " 192: 'checked-up',\n",
              " 193: 'regularly',\n",
              " 194: '.',\n",
              " 195: 'get',\n",
              " 196: 'the',\n",
              " 197: 'teeth',\n",
              " 198: 'checked-up',\n",
              " 199: 'with',\n",
              " 200: 'the',\n",
              " 201: 'dentists',\n",
              " 202: 'regularly',\n",
              " 203: '.',\n",
              " 204: 'they',\n",
              " 205: 'solve',\n",
              " 206: 'small',\n",
              " 207: 'problems',\n",
              " 208: 'of',\n",
              " 209: 'the',\n",
              " 210: 'teeth',\n",
              " 211: 'easily',\n",
              " 212: '.',\n",
              " 213: 'clean',\n",
              " 214: 'the',\n",
              " 215: 'mouth',\n",
              " 216: 'after',\n",
              " 217: 'meal',\n",
              " 218: '.',\n",
              " 219: 'do',\n",
              " 220: 'clean',\n",
              " 221: 'the',\n",
              " 222: 'mouth',\n",
              " 223: 'every',\n",
              " 224: 'time',\n",
              " 225: 'with',\n",
              " 226: 'water',\n",
              " 227: 'after',\n",
              " 228: 'eating',\n",
              " 229: '.',\n",
              " 230: 'the',\n",
              " 231: 'left-over',\n",
              " 232: 'pieces',\n",
              " 233: 'of',\n",
              " 234: 'food',\n",
              " 235: 'is',\n",
              " 236: 'cleaned',\n",
              " 237: 'by',\n",
              " 238: 'it',\n",
              " 239: '.',\n",
              " 240: 'clean',\n",
              " 241: 'the',\n",
              " 242: 'teeth',\n",
              " 243: 'with',\n",
              " 244: 'the',\n",
              " 245: 'mixture',\n",
              " 246: 'of',\n",
              " 247: 'lemon',\n",
              " 248: 'and',\n",
              " 249: 'salt',\n",
              " 250: '.',\n",
              " 251: 'taking',\n",
              " 252: 'a',\n",
              " 253: 'spoon',\n",
              " 254: 'of',\n",
              " 255: 'salt',\n",
              " 256: 'pour',\n",
              " 257: 'three',\n",
              " 258: 'to',\n",
              " 259: 'four',\n",
              " 260: 'drops',\n",
              " 261: 'of',\n",
              " 262: 'lemon',\n",
              " 263: 'juice',\n",
              " 264: 'in',\n",
              " 265: 'that',\n",
              " 266: '.',\n",
              " 267: 'clean',\n",
              " 268: 'the',\n",
              " 269: 'teeth',\n",
              " 270: 'every',\n",
              " 271: 'week',\n",
              " 272: 'with',\n",
              " 273: 'this',\n",
              " 274: 'mixture',\n",
              " 275: '.',\n",
              " 276: 'not',\n",
              " 277: 'only',\n",
              " 278: 'teeth',\n",
              " 279: 'starts',\n",
              " 280: 'shining',\n",
              " 281: 'with',\n",
              " 282: 'this',\n",
              " 283: '.',\n",
              " 284: 'but',\n",
              " 285: 'one',\n",
              " 286: 'also',\n",
              " 287: 'gets',\n",
              " 288: 'relief',\n",
              " 289: 'from',\n",
              " 290: 'stinking',\n",
              " 291: 'breath',\n",
              " 292: '.',\n",
              " 293: 'if',\n",
              " 294: 'there',\n",
              " 295: 'is',\n",
              " 296: 'health',\n",
              " 297: 'there',\n",
              " 298: 'is',\n",
              " 299: 'everything',\n",
              " 300: '.',\n",
              " 301: 'it',\n",
              " 302: 'is',\n",
              " 303: 'not',\n",
              " 304: 'less',\n",
              " 305: 'than',\n",
              " 306: 'a',\n",
              " 307: 'challenge',\n",
              " 308: 'to',\n",
              " 309: 'keep',\n",
              " 310: 'oneself',\n",
              " 311: 'healthy',\n",
              " 312: 'in',\n",
              " 313: 'today',\n",
              " 314: \"'s\",\n",
              " 315: 'busy',\n",
              " 316: 'life',\n",
              " 317: '.',\n",
              " 318: 'but',\n",
              " 319: 'you',\n",
              " 320: 'can',\n",
              " 321: 'keep',\n",
              " 322: 'yourself',\n",
              " 323: 'healthy',\n",
              " 324: 'by',\n",
              " 325: 'paying',\n",
              " 326: 'attention',\n",
              " 327: 'to',\n",
              " 328: 'your',\n",
              " 329: 'food',\n",
              " 330: 'habits',\n",
              " 331: 'and',\n",
              " 332: 'by',\n",
              " 333: 'bringing',\n",
              " 334: 'a',\n",
              " 335: 'little',\n",
              " 336: 'change',\n",
              " 337: 'in',\n",
              " 338: 'your',\n",
              " 339: 'lifestyle',\n",
              " 340: '.',\n",
              " 341: 'eat',\n",
              " 342: 'less',\n",
              " 343: 'fatty',\n",
              " 344: 'food',\n",
              " 345: '.',\n",
              " 346: 'eat',\n",
              " 347: 'only',\n",
              " 348: 'that',\n",
              " 349: 'food',\n",
              " 350: 'in',\n",
              " 351: 'which',\n",
              " 352: 'there',\n",
              " 353: 'is',\n",
              " 354: 'less',\n",
              " 355: 'fat',\n",
              " 356: 'and',\n",
              " 357: 'more',\n",
              " 358: 'fiber',\n",
              " 359: '.',\n",
              " 360: 'fruits',\n",
              " 361: 'and',\n",
              " 362: 'vegetables',\n",
              " 363: 'have',\n",
              " 364: 'a',\n",
              " 365: 'ratio',\n",
              " 366: 'like',\n",
              " 367: 'this',\n",
              " 368: '.',\n",
              " 369: 'we',\n",
              " 370: 'get',\n",
              " 371: 'helped',\n",
              " 372: 'in',\n",
              " 373: 'controlling',\n",
              " 374: 'our',\n",
              " 375: 'weight',\n",
              " 376: 'by',\n",
              " 377: 'taking',\n",
              " 378: 'less',\n",
              " 379: 'fatty',\n",
              " 380: 'and',\n",
              " 381: 'fibered',\n",
              " 382: 'food',\n",
              " 383: '.',\n",
              " 384: 'you',\n",
              " 385: 'keep',\n",
              " 386: 'yourself',\n",
              " 387: 'far',\n",
              " 388: 'from',\n",
              " 389: 'many',\n",
              " 390: 'diseases',\n",
              " 391: 'by',\n",
              " 392: 'eating',\n",
              " 393: 'less',\n",
              " 394: 'fatty',\n",
              " 395: 'and',\n",
              " 396: 'fibered',\n",
              " 397: 'food',\n",
              " 398: '.',\n",
              " 399: 'take',\n",
              " 400: 'less',\n",
              " 401: 'salt',\n",
              " 402: 'and',\n",
              " 403: 'alcohol',\n",
              " 404: 'take',\n",
              " 405: 'the',\n",
              " 406: 'least',\n",
              " 407: 'quantity',\n",
              " 408: 'of',\n",
              " 409: 'salt',\n",
              " 410: 'and',\n",
              " 411: 'alcohol',\n",
              " 412: 'to',\n",
              " 413: 'control',\n",
              " 414: 'blood',\n",
              " 415: 'pressure',\n",
              " 416: 'and',\n",
              " 417: 'cholesterol',\n",
              " 418: '.',\n",
              " 419: 'stop',\n",
              " 420: 'smoking',\n",
              " 421: '.',\n",
              " 422: 'there',\n",
              " 423: 'is',\n",
              " 424: 'a',\n",
              " 425: 'danger',\n",
              " 426: 'of',\n",
              " 427: 'several',\n",
              " 428: 'diseases',\n",
              " 429: 'including',\n",
              " 430: 'cancer',\n",
              " 431: 'with',\n",
              " 432: 'smoking',\n",
              " 433: '.',\n",
              " 434: 'try',\n",
              " 435: 'your',\n",
              " 436: 'best',\n",
              " 437: 'to',\n",
              " 438: 'quit',\n",
              " 439: 'it',\n",
              " 440: '.',\n",
              " 441: 'exercise',\n",
              " 442: 'daily',\n",
              " 443: '.',\n",
              " 444: 'you',\n",
              " 445: 'must',\n",
              " 446: 'include',\n",
              " 447: 'exercise',\n",
              " 448: 'in',\n",
              " 449: 'your',\n",
              " 450: 'daily',\n",
              " 451: 'routine',\n",
              " 452: '.',\n",
              " 453: 'you',\n",
              " 454: 'can',\n",
              " 455: 'prevent',\n",
              " 456: 'heart',\n",
              " 457: 'diseases',\n",
              " 458: ',',\n",
              " 459: 'colon',\n",
              " 460: 'cancer',\n",
              " 461: ',',\n",
              " 462: 'blood',\n",
              " 463: 'pressure',\n",
              " 464: 'and',\n",
              " 465: 'diabetes',\n",
              " 466: 'like',\n",
              " 467: 'diseases',\n",
              " 468: 'by',\n",
              " 469: 'regular',\n",
              " 470: 'exercise',\n",
              " 471: '.',\n",
              " 472: 'keep',\n",
              " 473: 'doing',\n",
              " 474: 'light',\n",
              " 475: 'physical',\n",
              " 476: 'activities',\n",
              " 477: '.',\n",
              " 478: 'keep',\n",
              " 479: 'doing',\n",
              " 480: 'small',\n",
              " 481: 'physical',\n",
              " 482: 'activities',\n",
              " 483: 'like',\n",
              " 484: 'climbing',\n",
              " 485: 'stairs',\n",
              " 486: ',',\n",
              " 487: 'gardening',\n",
              " 488: ',',\n",
              " 489: 'small',\n",
              " 490: 'domestic',\n",
              " 491: 'works',\n",
              " 492: 'or',\n",
              " 493: 'dancing',\n",
              " 494: '.',\n",
              " 495: 'these',\n",
              " 496: 'retain',\n",
              " 497: 'the',\n",
              " 498: 'flexibility',\n",
              " 499: 'in',\n",
              " 500: 'the',\n",
              " 501: 'body',\n",
              " 502: '.',\n",
              " 503: 'if',\n",
              " 504: 'fever',\n",
              " 505: 'comes',\n",
              " 506: 'continuously',\n",
              " 507: 'you',\n",
              " 508: 'must',\n",
              " 509: 'get',\n",
              " 510: 'it',\n",
              " 511: 'checked',\n",
              " 512: 'up',\n",
              " 513: '.'}"
            ]
          },
          "metadata": {
            "tags": []
          },
          "execution_count": 16
        }
      ]
    },
    {
      "metadata": {
        "id": "AsX2C_9FkAKf",
        "colab_type": "code",
        "colab": {}
      },
      "cell_type": "code",
      "source": [
        "model = gensim.models.Word2Vec(data, min_count = 1, size = 100, \n",
        "                                             window = 5, sg = 1) "
      ],
      "execution_count": 0,
      "outputs": []
    },
    {
      "metadata": {
        "id": "rrNifDK5kCAu",
        "colab_type": "code",
        "outputId": "23168428-7cae-40cb-a8b0-63181e489e96",
        "colab": {
          "base_uri": "https://localhost:8080/",
          "height": 1739
        }
      },
      "cell_type": "code",
      "source": [
        "output_of_words=[]\n",
        "max_x=0\n",
        "for i in data:\n",
        "    print(i)\n",
        "    print(\"hgg\")\n",
        "    output_of_words.append(model[i])\n",
        "    max_x=max(max_x,len(model[i]))"
      ],
      "execution_count": 0,
      "outputs": [
        {
          "output_type": "stream",
          "text": [
            "['fresh', 'breath', 'and', 'shining', 'teeth', 'enhance', 'your', 'personality', '.']\n",
            "hgg\n",
            "['your', 'self-confidence', 'also', 'increases', 'with', 'teeth', '.']\n",
            "hgg\n",
            "['bacteria', 'stay', 'between', 'our', 'gums', 'and', 'teeth', '.']\n",
            "hgg\n",
            "['they', 'make', 'teeth', 'dirty', 'and', 'breath', 'stinky', '.']\n",
            "hgg\n",
            "['you', 'may', 'keep', 'your', 'teeth', 'clean', 'and', 'breath', 'fresh', 'by', 'the', 'help', 'of', 'some', 'easy', 'tips', 'given', 'here', '.']\n",
            "hgg\n",
            "['clean', 'your', 'teeth', 'properly', '.']\n",
            "hgg\n",
            "['it', 'takes', 'two', 'to', 'three', 'minutes', 'to', 'clean', 'your', 'teeth', 'properly', '.']\n",
            "hgg\n",
            "['but', 'most', 'of', 'the', 'people', 'give', 'less', 'than', 'one', 'minute', 'for', 'this', '.']\n",
            "hgg\n",
            "['drink', 'plenty', 'of', 'water', '.']\n",
            "hgg\n",
            "['bacterial', 'attack', 'fast', 'if', 'the', 'mouth', 'dries', 'up', '.']\n",
            "hgg\n",
            "['with', 'this', 'stink', 'come', 'from', 'breath', '.']\n",
            "hgg\n",
            "['by', 'drinking', 'plenty', 'of', 'water', 'not', 'only', 'the', 'left-over', 'pieces', 'of', 'food', 'gets', 'cleaned', 'but', 'saliva', 'also', 'gets', 'formed', '.']\n",
            "hgg\n",
            "['saliva', 'has', 'important', 'role', 'in', 'keeping', 'the', 'mouth', 'clean', '.']\n",
            "hgg\n",
            "['saliva', 'destroys', 'those', 'bacteria', 'which', 'create', 'stink', 'in', 'breath', '.']\n",
            "hgg\n",
            "['chew', 'the', 'sugar-free', 'chewing', 'gum', '.']\n",
            "hgg\n",
            "['saliva', 'is', 'formed', 'by', 'chewing', 'the', 'chewing', 'gum', '.']\n",
            "hgg\n",
            "['chewing', 'gum', 'helps', 'in', 'keeping', 'the', 'teeth', 'clean', '.']\n",
            "hgg\n",
            "['sugared', 'chewing', 'gum', 'is', 'not', 'supposed', 'to', 'be', 'good', 'for', 'health', '.']\n",
            "hgg\n",
            "['that', 'is', 'dentists', 'do', 'not', 'suggest', 'chewing', 'sugared', 'chewing', 'gum', '.']\n",
            "hgg\n",
            "['get', 'the', 'teeth', 'checked-up', 'regularly', '.']\n",
            "hgg\n",
            "['get', 'the', 'teeth', 'checked-up', 'with', 'the', 'dentists', 'regularly', '.']\n",
            "hgg\n",
            "['they', 'solve', 'small', 'problems', 'of', 'the', 'teeth', 'easily', '.']\n",
            "hgg\n",
            "['clean', 'the', 'mouth', 'after', 'meal', '.']\n",
            "hgg\n",
            "['do', 'clean', 'the', 'mouth', 'every', 'time', 'with', 'water', 'after', 'eating', '.']\n",
            "hgg\n",
            "['the', 'left-over', 'pieces', 'of', 'food', 'is', 'cleaned', 'by', 'it', '.']\n",
            "hgg\n",
            "['clean', 'the', 'teeth', 'with', 'the', 'mixture', 'of', 'lemon', 'and', 'salt', '.']\n",
            "hgg\n",
            "['taking', 'a', 'spoon', 'of', 'salt', 'pour', 'three', 'to', 'four', 'drops', 'of', 'lemon', 'juice', 'in', 'that', '.']\n",
            "hgg\n",
            "['clean', 'the', 'teeth', 'every', 'week', 'with', 'this', 'mixture', '.']\n",
            "hgg\n",
            "['not', 'only', 'teeth', 'starts', 'shining', 'with', 'this', '.']\n",
            "hgg\n",
            "['but', 'one', 'also', 'gets', 'relief', 'from', 'stinking', 'breath', '.']\n",
            "hgg\n",
            "['if', 'there', 'is', 'health', 'there', 'is', 'everything', '.']\n",
            "hgg\n",
            "['it', 'is', 'not', 'less', 'than', 'a', 'challenge', 'to', 'keep', 'oneself', 'healthy', 'in', 'today', \"'s\", 'busy', 'life', '.']\n",
            "hgg\n",
            "['but', 'you', 'can', 'keep', 'yourself', 'healthy', 'by', 'paying', 'attention', 'to', 'your', 'food', 'habits', 'and', 'by', 'bringing', 'a', 'little', 'change', 'in', 'your', 'lifestyle', '.']\n",
            "hgg\n",
            "['eat', 'less', 'fatty', 'food', '.']\n",
            "hgg\n",
            "['eat', 'only', 'that', 'food', 'in', 'which', 'there', 'is', 'less', 'fat', 'and', 'more', 'fiber', '.']\n",
            "hgg\n",
            "['fruits', 'and', 'vegetables', 'have', 'a', 'ratio', 'like', 'this', '.']\n",
            "hgg\n",
            "['we', 'get', 'helped', 'in', 'controlling', 'our', 'weight', 'by', 'taking', 'less', 'fatty', 'and', 'fibered', 'food', '.']\n",
            "hgg\n",
            "['you', 'keep', 'yourself', 'far', 'from', 'many', 'diseases', 'by', 'eating', 'less', 'fatty', 'and', 'fibered', 'food', '.']\n",
            "hgg\n",
            "['take', 'less', 'salt', 'and', 'alcohol', 'take', 'the', 'least', 'quantity', 'of', 'salt', 'and', 'alcohol', 'to', 'control', 'blood', 'pressure', 'and', 'cholesterol', '.']\n",
            "hgg\n",
            "['stop', 'smoking', '.']\n",
            "hgg\n",
            "['there', 'is', 'a', 'danger', 'of', 'several', 'diseases', 'including', 'cancer', 'with', 'smoking', '.']\n",
            "hgg\n",
            "['try', 'your', 'best', 'to', 'quit', 'it', '.']\n",
            "hgg\n",
            "['exercise', 'daily', '.']\n",
            "hgg\n",
            "['you', 'must', 'include', 'exercise', 'in', 'your', 'daily', 'routine', '.']\n",
            "hgg\n",
            "['you', 'can', 'prevent', 'heart', 'diseases', ',', 'colon', 'cancer', ',', 'blood', 'pressure', 'and', 'diabetes', 'like', 'diseases', 'by', 'regular', 'exercise', '.']\n",
            "hgg\n",
            "['keep', 'doing', 'light', 'physical', 'activities', '.']\n",
            "hgg\n",
            "['keep', 'doing', 'small', 'physical', 'activities', 'like', 'climbing', 'stairs', ',', 'gardening', ',', 'small', 'domestic', 'works', 'or', 'dancing', '.']\n",
            "hgg\n",
            "['these', 'retain', 'the', 'flexibility', 'in', 'the', 'body', '.']\n",
            "hgg\n",
            "['if', 'fever', 'comes', 'continuously', 'you', 'must', 'get', 'it', 'checked', 'up', '.']\n",
            "hgg\n"
          ],
          "name": "stdout"
        }
      ]
    },
    {
      "metadata": {
        "id": "6ByFdiYhkEFy",
        "colab_type": "code",
        "outputId": "9f8eb72f-284d-42dc-8426-d8aac4ed1257",
        "colab": {
          "base_uri": "https://localhost:8080/",
          "height": 10611
        }
      },
      "cell_type": "code",
      "source": [
        "output_of_words"
      ],
      "execution_count": 0,
      "outputs": [
        {
          "output_type": "execute_result",
          "data": {
            "text/plain": [
              "[array([[ 4.6248906e-04, -5.8097427e-04,  6.0113613e-04, ...,\n",
              "          4.0804766e-04,  9.2857314e-04, -8.7140512e-04],\n",
              "        [ 4.6485718e-04, -3.5404490e-04,  3.6876736e-04, ...,\n",
              "         -1.1776326e-04,  5.8125285e-04, -3.3537723e-04],\n",
              "        [-8.4289326e-04,  9.2765497e-04,  4.4944632e-04, ...,\n",
              "         -2.5056314e-04, -8.1547286e-04,  2.6179536e-04],\n",
              "        ...,\n",
              "        [-8.9072091e-05, -3.7098289e-04, -2.0379313e-04, ...,\n",
              "         -4.4315009e-04,  4.1728592e-05, -7.9158269e-04],\n",
              "        [ 9.2911627e-04,  9.2912471e-04,  8.2068588e-04, ...,\n",
              "         -3.0258932e-04, -2.3318302e-04, -8.3076862e-05],\n",
              "        [-5.4617267e-04,  6.9505803e-04,  1.0164361e-03, ...,\n",
              "         -6.2932580e-05, -2.9113228e-04, -1.9767888e-04]], dtype=float32),\n",
              " array([[-8.9072091e-05, -3.7098289e-04, -2.0379313e-04, ...,\n",
              "         -4.4315009e-04,  4.1728592e-05, -7.9158269e-04],\n",
              "        [ 8.1963645e-04,  9.4930560e-04, -4.4592744e-04, ...,\n",
              "          2.4048612e-04, -1.2426483e-04,  3.8063421e-04],\n",
              "        [-8.8234618e-04,  9.4729086e-04, -8.6892099e-04, ...,\n",
              "          5.4213077e-05,  8.9309079e-04, -3.3408258e-04],\n",
              "        ...,\n",
              "        [-4.8911938e-04, -5.7509571e-04, -5.2845862e-04, ...,\n",
              "          1.2774720e-04,  3.1033091e-04, -3.4261160e-04],\n",
              "        [ 7.8716758e-04,  5.6727062e-04,  8.7655254e-04, ...,\n",
              "          1.4996587e-04, -3.9842946e-04,  1.6698864e-04],\n",
              "        [-5.4617267e-04,  6.9505803e-04,  1.0164361e-03, ...,\n",
              "         -6.2932580e-05, -2.9113228e-04, -1.9767888e-04]], dtype=float32),\n",
              " array([[ 4.6706735e-04,  4.0223153e-04, -1.5033981e-04, ...,\n",
              "         -1.7211773e-04,  2.5600681e-04,  9.4377919e-04],\n",
              "        [-9.1638387e-04, -6.5599981e-04,  9.3684811e-04, ...,\n",
              "         -6.5564376e-04,  3.1565074e-04, -4.4074931e-04],\n",
              "        [-3.9251801e-04, -8.3311193e-04, -2.6298010e-05, ...,\n",
              "          4.1809396e-04,  3.7160306e-04, -2.1389655e-04],\n",
              "        ...,\n",
              "        [-8.4289326e-04,  9.2765497e-04,  4.4944632e-04, ...,\n",
              "         -2.5056314e-04, -8.1547286e-04,  2.6179536e-04],\n",
              "        [ 7.8716758e-04,  5.6727062e-04,  8.7655254e-04, ...,\n",
              "          1.4996587e-04, -3.9842946e-04,  1.6698864e-04],\n",
              "        [-5.4617267e-04,  6.9505803e-04,  1.0164361e-03, ...,\n",
              "         -6.2932580e-05, -2.9113228e-04, -1.9767888e-04]], dtype=float32),\n",
              " array([[-5.1834836e-04, -1.4047856e-04, -4.8346898e-05, ...,\n",
              "          2.7162232e-04, -8.0790155e-04, -3.6775559e-04],\n",
              "        [-7.8268646e-04, -2.5470264e-04,  6.2992820e-04, ...,\n",
              "          2.8351240e-04, -5.4296403e-04,  6.7443121e-05],\n",
              "        [ 7.8716758e-04,  5.6727062e-04,  8.7655254e-04, ...,\n",
              "          1.4996587e-04, -3.9842946e-04,  1.6698864e-04],\n",
              "        ...,\n",
              "        [ 4.6485718e-04, -3.5404490e-04,  3.6876736e-04, ...,\n",
              "         -1.1776326e-04,  5.8125285e-04, -3.3537723e-04],\n",
              "        [ 8.1764226e-04, -7.0433726e-04,  7.1832124e-04, ...,\n",
              "          7.3954655e-04, -9.0853404e-04, -1.6335452e-04],\n",
              "        [-5.4617267e-04,  6.9505803e-04,  1.0164361e-03, ...,\n",
              "         -6.2932580e-05, -2.9113228e-04, -1.9767888e-04]], dtype=float32),\n",
              " array([[-9.1056351e-04, -9.6239231e-04,  1.0136198e-03, ...,\n",
              "         -7.3644362e-04, -3.8835383e-04, -8.5588428e-04],\n",
              "        [ 3.8350018e-04, -8.5090345e-04, -3.2831693e-05, ...,\n",
              "         -8.6085935e-04,  2.3048000e-05, -8.1960316e-04],\n",
              "        [-4.9196952e-04,  1.0008214e-03, -8.6403749e-04, ...,\n",
              "          7.6036420e-05, -5.3064380e-04, -6.3153962e-04],\n",
              "        ...,\n",
              "        [-9.2661801e-05, -2.8051827e-05, -7.0456794e-04, ...,\n",
              "          7.0639671e-04, -6.0532783e-04,  8.6898427e-04],\n",
              "        [-6.5606419e-04,  8.5392751e-04, -9.0786529e-04, ...,\n",
              "         -2.1545922e-04, -1.2651643e-04,  4.6266265e-05],\n",
              "        [-5.4617267e-04,  6.9505803e-04,  1.0164361e-03, ...,\n",
              "         -6.2932580e-05, -2.9113228e-04, -1.9767888e-04]], dtype=float32),\n",
              " array([[-8.3303539e-04,  1.4072159e-04,  4.8121964e-04, ...,\n",
              "         -1.9262987e-04,  5.6820305e-04,  9.3982631e-04],\n",
              "        [-8.9072091e-05, -3.7098289e-04, -2.0379313e-04, ...,\n",
              "         -4.4315009e-04,  4.1728592e-05, -7.9158269e-04],\n",
              "        [ 7.8716758e-04,  5.6727062e-04,  8.7655254e-04, ...,\n",
              "          1.4996587e-04, -3.9842946e-04,  1.6698864e-04],\n",
              "        [-1.1641961e-04, -6.0346926e-04,  4.8958953e-04, ...,\n",
              "          7.5660174e-04,  5.7953928e-04,  6.7375170e-04],\n",
              "        [-5.4617267e-04,  6.9505803e-04,  1.0164361e-03, ...,\n",
              "         -6.2932580e-05, -2.9113228e-04, -1.9767888e-04]], dtype=float32),\n",
              " array([[ 3.8792161e-04,  9.2534843e-04,  6.5865676e-04, ...,\n",
              "         -3.3905354e-04, -5.6416250e-04, -7.2049955e-04],\n",
              "        [-8.2296168e-04, -6.8904395e-04, -9.1953319e-04, ...,\n",
              "         -1.4277629e-04,  7.8155228e-04, -7.6299085e-04],\n",
              "        [ 2.0712279e-04, -1.0041206e-04, -3.5292949e-04, ...,\n",
              "          2.6482359e-05,  6.7951460e-04,  4.5562937e-04],\n",
              "        ...,\n",
              "        [ 7.8716758e-04,  5.6727062e-04,  8.7655254e-04, ...,\n",
              "          1.4996587e-04, -3.9842946e-04,  1.6698864e-04],\n",
              "        [-1.1641961e-04, -6.0346926e-04,  4.8958953e-04, ...,\n",
              "          7.5660174e-04,  5.7953928e-04,  6.7375170e-04],\n",
              "        [-5.4617267e-04,  6.9505803e-04,  1.0164361e-03, ...,\n",
              "         -6.2932580e-05, -2.9113228e-04, -1.9767888e-04]], dtype=float32),\n",
              " array([[ 2.7999695e-04,  7.6813292e-04,  6.4163399e-04, ...,\n",
              "          2.3562770e-04,  8.6325163e-04,  7.6079858e-04],\n",
              "        [ 5.3302274e-04, -4.0780354e-04, -4.1730009e-04, ...,\n",
              "         -7.2029958e-05, -1.5249572e-04,  4.8051664e-04],\n",
              "        [-1.6150902e-04,  3.5853224e-04, -3.7072282e-04, ...,\n",
              "         -8.6979917e-04, -4.8857974e-04,  4.0107823e-04],\n",
              "        ...,\n",
              "        [-7.1533397e-04,  2.7220964e-04, -6.4296799e-04, ...,\n",
              "          5.8635254e-04, -4.2318363e-05,  6.5558229e-04],\n",
              "        [-7.7739614e-04,  9.3430531e-04,  3.4348515e-04, ...,\n",
              "         -5.9336872e-04,  1.8450277e-04, -7.5281103e-04],\n",
              "        [-5.4617267e-04,  6.9505803e-04,  1.0164361e-03, ...,\n",
              "         -6.2932580e-05, -2.9113228e-04, -1.9767888e-04]], dtype=float32),\n",
              " array([[ 3.1183645e-04,  7.7286974e-04,  7.0536119e-04, ...,\n",
              "          5.8875245e-04,  9.6732070e-04,  8.1335433e-04],\n",
              "        [-4.2306623e-04,  7.2538148e-04,  2.1602004e-04, ...,\n",
              "          7.7436678e-04,  7.3511270e-04, -1.1538712e-04],\n",
              "        [-1.6150902e-04,  3.5853224e-04, -3.7072282e-04, ...,\n",
              "         -8.6979917e-04, -4.8857974e-04,  4.0107823e-04],\n",
              "        [-4.8042777e-05, -2.2999992e-04, -5.4260012e-04, ...,\n",
              "          4.3638897e-04,  3.8554895e-04, -2.7399527e-05],\n",
              "        [-5.4617267e-04,  6.9505803e-04,  1.0164361e-03, ...,\n",
              "         -6.2932580e-05, -2.9113228e-04, -1.9767888e-04]], dtype=float32),\n",
              " array([[-5.8896356e-05,  4.1501917e-04,  5.9996697e-04, ...,\n",
              "          7.1986136e-04, -3.2825067e-04,  4.6312108e-04],\n",
              "        [ 8.9815655e-04,  1.7101124e-04, -3.0017467e-04, ...,\n",
              "         -2.2020891e-04,  1.0208190e-04,  2.6749534e-04],\n",
              "        [ 2.3871235e-04, -9.5623021e-04, -3.4690645e-04, ...,\n",
              "          8.0300565e-04,  7.5186806e-04,  7.1248575e-04],\n",
              "        ...,\n",
              "        [-2.2855327e-04,  5.5724801e-04,  6.8725749e-06, ...,\n",
              "          8.1221113e-04, -1.1440368e-04, -5.2280072e-04],\n",
              "        [ 1.9084006e-04,  7.4596994e-04,  1.7044321e-04, ...,\n",
              "         -1.7202050e-04,  2.5207308e-04, -1.5769807e-04],\n",
              "        [-5.4617267e-04,  6.9505803e-04,  1.0164361e-03, ...,\n",
              "         -6.2932580e-05, -2.9113228e-04, -1.9767888e-04]], dtype=float32),\n",
              " array([[-4.8911938e-04, -5.7509571e-04, -5.2845862e-04, ...,\n",
              "          1.2774720e-04,  3.1033091e-04, -3.4261160e-04],\n",
              "        [-7.7739614e-04,  9.3430531e-04,  3.4348515e-04, ...,\n",
              "         -5.9336872e-04,  1.8450277e-04, -7.5281103e-04],\n",
              "        [ 6.1958667e-04, -2.4532859e-04, -2.6166967e-05, ...,\n",
              "          7.8351307e-04,  6.6012604e-04,  8.5895404e-04],\n",
              "        ...,\n",
              "        [-8.3402701e-04,  4.0146674e-04,  1.0219320e-03, ...,\n",
              "         -7.6954422e-04, -7.9352368e-04, -5.8887951e-04],\n",
              "        [ 4.6485718e-04, -3.5404490e-04,  3.6876736e-04, ...,\n",
              "         -1.1776326e-04,  5.8125285e-04, -3.3537723e-04],\n",
              "        [-5.4617267e-04,  6.9505803e-04,  1.0164361e-03, ...,\n",
              "         -6.2932580e-05, -2.9113228e-04, -1.9767888e-04]], dtype=float32),\n",
              " array([[ 6.9264171e-04,  4.8014111e-04,  1.0241342e-03, ...,\n",
              "         -3.6433886e-04, -7.8046852e-04,  8.2547375e-04],\n",
              "        [-9.3737105e-04,  6.4114975e-05,  6.6278875e-04, ...,\n",
              "          7.8399677e-04, -4.3008759e-04, -5.2610453e-04],\n",
              "        [-4.2306623e-04,  7.2538148e-04,  2.1602004e-04, ...,\n",
              "          7.7436678e-04,  7.3511270e-04, -1.1538712e-04],\n",
              "        ...,\n",
              "        [-6.0159341e-04,  8.9050928e-04,  9.2507759e-04, ...,\n",
              "         -8.4375980e-04,  1.7815569e-04,  4.3466891e-04],\n",
              "        [ 3.4265770e-04,  5.0607163e-05, -3.2160775e-04, ...,\n",
              "         -2.3942019e-04, -1.7600899e-04,  4.3802476e-04],\n",
              "        [-5.4617267e-04,  6.9505803e-04,  1.0164361e-03, ...,\n",
              "         -6.2932580e-05, -2.9113228e-04, -1.9767888e-04]], dtype=float32),\n",
              " array([[-8.9477096e-04,  1.7230950e-04,  6.6660206e-05, ...,\n",
              "          9.7335147e-04, -2.3052470e-04,  8.5068651e-04],\n",
              "        [ 9.1509626e-04, -9.5089286e-04,  8.6397503e-04, ...,\n",
              "          5.5444712e-04,  9.3828619e-04,  2.9874820e-04],\n",
              "        [ 8.4976247e-04,  9.7324973e-04,  5.4027350e-04, ...,\n",
              "         -1.6137812e-04, -1.0594619e-04, -4.7123965e-04],\n",
              "        ...,\n",
              "        [-2.9966480e-04, -5.9029332e-04, -6.4140989e-04, ...,\n",
              "         -8.5471937e-04,  4.8076495e-04,  4.2741391e-04],\n",
              "        [-8.3303539e-04,  1.4072159e-04,  4.8121964e-04, ...,\n",
              "         -1.9262987e-04,  5.6820305e-04,  9.3982631e-04],\n",
              "        [-5.4617267e-04,  6.9505803e-04,  1.0164361e-03, ...,\n",
              "         -6.2932580e-05, -2.9113228e-04, -1.9767888e-04]], dtype=float32),\n",
              " array([[-8.9477096e-04,  1.7230950e-04,  6.6660206e-05, ...,\n",
              "          9.7335147e-04, -2.3052470e-04,  8.5068651e-04],\n",
              "        [ 5.7522365e-04,  9.1329613e-04,  1.6327860e-04, ...,\n",
              "         -8.6462859e-04, -3.8266668e-04, -2.7033928e-04],\n",
              "        [ 9.1344415e-04,  6.7578687e-04,  9.6000126e-04, ...,\n",
              "         -7.4630429e-04,  4.2754220e-04, -7.0699659e-04],\n",
              "        ...,\n",
              "        [ 2.9468862e-04,  3.8416430e-04, -7.5870985e-04, ...,\n",
              "          7.2092685e-04, -9.9132617e-04, -7.9056778e-04],\n",
              "        [ 4.6485718e-04, -3.5404490e-04,  3.6876736e-04, ...,\n",
              "         -1.1776326e-04,  5.8125285e-04, -3.3537723e-04],\n",
              "        [-5.4617267e-04,  6.9505803e-04,  1.0164361e-03, ...,\n",
              "         -6.2932580e-05, -2.9113228e-04, -1.9767888e-04]], dtype=float32),\n",
              " array([[ 5.5665412e-04,  5.8430177e-04,  5.2516221e-04, ...,\n",
              "          8.3334261e-04,  6.3968328e-04, -2.2892731e-05],\n",
              "        [-3.3684348e-04, -9.3822554e-04,  7.4031414e-04, ...,\n",
              "          4.9857731e-04, -8.5960230e-04,  6.7094446e-04],\n",
              "        [ 2.4050352e-04,  7.4122252e-04,  5.4036168e-04, ...,\n",
              "          3.5905093e-04, -9.3089597e-04,  6.7705958e-04],\n",
              "        [-6.5004971e-04, -7.2063129e-05,  2.0077640e-04, ...,\n",
              "          7.4765109e-04,  4.2791280e-04, -3.0625882e-04],\n",
              "        [-1.9303245e-04, -7.8607147e-04, -1.2217989e-05, ...,\n",
              "          7.3954207e-04,  3.1035717e-04,  8.2270586e-04],\n",
              "        [-5.4617267e-04,  6.9505803e-04,  1.0164361e-03, ...,\n",
              "         -6.2932580e-05, -2.9113228e-04, -1.9767888e-04]], dtype=float32),\n",
              " array([[-8.9477096e-04,  1.7230950e-04,  6.6660206e-05, ...,\n",
              "          9.7335147e-04, -2.3052470e-04,  8.5068651e-04],\n",
              "        [-5.3960748e-04, -5.4556585e-04, -5.2495085e-04, ...,\n",
              "          3.3466924e-05, -7.4214005e-04, -6.9986045e-04],\n",
              "        [ 3.4265770e-04,  5.0607163e-05, -3.2160775e-04, ...,\n",
              "         -2.3942019e-04, -1.7600899e-04,  4.3802476e-04],\n",
              "        ...,\n",
              "        [-6.5004971e-04, -7.2063129e-05,  2.0077640e-04, ...,\n",
              "          7.4765109e-04,  4.2791280e-04, -3.0625882e-04],\n",
              "        [-1.9303245e-04, -7.8607147e-04, -1.2217989e-05, ...,\n",
              "          7.3954207e-04,  3.1035717e-04,  8.2270586e-04],\n",
              "        [-5.4617267e-04,  6.9505803e-04,  1.0164361e-03, ...,\n",
              "         -6.2932580e-05, -2.9113228e-04, -1.9767888e-04]], dtype=float32),\n",
              " array([[-6.5004971e-04, -7.2063129e-05,  2.0077640e-04, ...,\n",
              "          7.4765109e-04,  4.2791280e-04, -3.0625882e-04],\n",
              "        [-1.9303245e-04, -7.8607147e-04, -1.2217989e-05, ...,\n",
              "          7.3954207e-04,  3.1035717e-04,  8.2270586e-04],\n",
              "        [ 9.5821633e-05, -3.0840030e-05, -1.4835001e-05, ...,\n",
              "          2.2514634e-04, -4.2101412e-04,  5.5125997e-06],\n",
              "        ...,\n",
              "        [ 7.8716758e-04,  5.6727062e-04,  8.7655254e-04, ...,\n",
              "          1.4996587e-04, -3.9842946e-04,  1.6698864e-04],\n",
              "        [-8.3303539e-04,  1.4072159e-04,  4.8121964e-04, ...,\n",
              "         -1.9262987e-04,  5.6820305e-04,  9.3982631e-04],\n",
              "        [-5.4617267e-04,  6.9505803e-04,  1.0164361e-03, ...,\n",
              "         -6.2932580e-05, -2.9113228e-04, -1.9767888e-04]], dtype=float32),\n",
              " array([[-6.66868873e-04,  7.58866139e-04, -8.88959679e-04, ...,\n",
              "          7.94134685e-04,  2.70371616e-04,  7.58368173e-04],\n",
              "        [-6.50049711e-04, -7.20631288e-05,  2.00776398e-04, ...,\n",
              "          7.47651095e-04,  4.27912804e-04, -3.06258822e-04],\n",
              "        [-1.93032451e-04, -7.86071469e-04, -1.22179890e-05, ...,\n",
              "          7.39542069e-04,  3.10357165e-04,  8.22705857e-04],\n",
              "        ...,\n",
              "        [-7.15333968e-04,  2.72209640e-04, -6.42967992e-04, ...,\n",
              "          5.86352544e-04, -4.23183628e-05,  6.55582291e-04],\n",
              "        [-3.86345171e-04, -1.39245298e-04,  8.19330802e-04, ...,\n",
              "          1.15654104e-04,  6.85912033e-04,  8.43873946e-04],\n",
              "        [-5.46172669e-04,  6.95058028e-04,  1.01643614e-03, ...,\n",
              "         -6.29325805e-05, -2.91132281e-04, -1.97678877e-04]], dtype=float32),\n",
              " array([[ 7.2560430e-04, -9.5070322e-04, -8.7678287e-04, ...,\n",
              "          2.7193694e-04, -6.8933849e-04, -2.4171920e-04],\n",
              "        [-5.3960748e-04, -5.4556585e-04, -5.2495085e-04, ...,\n",
              "          3.3466924e-05, -7.4214005e-04, -6.9986045e-04],\n",
              "        [-9.1176858e-05,  8.2917942e-04,  4.3437310e-04, ...,\n",
              "          6.2839739e-04, -9.6704328e-04,  1.0009445e-03],\n",
              "        ...,\n",
              "        [-6.5004971e-04, -7.2063129e-05,  2.0077640e-04, ...,\n",
              "          7.4765109e-04,  4.2791280e-04, -3.0625882e-04],\n",
              "        [-1.9303245e-04, -7.8607147e-04, -1.2217989e-05, ...,\n",
              "          7.3954207e-04,  3.1035717e-04,  8.2270586e-04],\n",
              "        [-5.4617267e-04,  6.9505803e-04,  1.0164361e-03, ...,\n",
              "         -6.2932580e-05, -2.9113228e-04, -1.9767888e-04]], dtype=float32),\n",
              " array([[-7.7590637e-04, -5.2625738e-04, -4.8703566e-04, ...,\n",
              "          9.1042944e-05, -3.2356274e-04, -5.7920340e-07],\n",
              "        [-3.3684348e-04, -9.3822554e-04,  7.4031414e-04, ...,\n",
              "          4.9857731e-04, -8.5960230e-04,  6.7094446e-04],\n",
              "        [ 7.8716758e-04,  5.6727062e-04,  8.7655254e-04, ...,\n",
              "          1.4996587e-04, -3.9842946e-04,  1.6698864e-04],\n",
              "        [ 2.9653267e-04,  9.7388076e-04,  4.7314435e-04, ...,\n",
              "          6.6617620e-04,  1.1957304e-04, -8.1345870e-04],\n",
              "        [ 8.6001237e-04, -2.6488231e-04,  2.5114419e-05, ...,\n",
              "          8.3722896e-04,  2.5267710e-04, -2.2913655e-04],\n",
              "        [-5.4617267e-04,  6.9505803e-04,  1.0164361e-03, ...,\n",
              "         -6.2932580e-05, -2.9113228e-04, -1.9767888e-04]], dtype=float32),\n",
              " array([[-7.7590637e-04, -5.2625738e-04, -4.8703566e-04, ...,\n",
              "          9.1042944e-05, -3.2356274e-04, -5.7920340e-07],\n",
              "        [-3.3684348e-04, -9.3822554e-04,  7.4031414e-04, ...,\n",
              "          4.9857731e-04, -8.5960230e-04,  6.7094446e-04],\n",
              "        [ 7.8716758e-04,  5.6727062e-04,  8.7655254e-04, ...,\n",
              "          1.4996587e-04, -3.9842946e-04,  1.6698864e-04],\n",
              "        ...,\n",
              "        [-9.1176858e-05,  8.2917942e-04,  4.3437310e-04, ...,\n",
              "          6.2839739e-04, -9.6704328e-04,  1.0009445e-03],\n",
              "        [ 8.6001237e-04, -2.6488231e-04,  2.5114419e-05, ...,\n",
              "          8.3722896e-04,  2.5267710e-04, -2.2913655e-04],\n",
              "        [-5.4617267e-04,  6.9505803e-04,  1.0164361e-03, ...,\n",
              "         -6.2932580e-05, -2.9113228e-04, -1.9767888e-04]], dtype=float32),\n",
              " array([[-5.1834836e-04, -1.4047856e-04, -4.8346898e-05, ...,\n",
              "          2.7162232e-04, -8.0790155e-04, -3.6775559e-04],\n",
              "        [ 3.1485170e-04,  2.2052662e-04,  9.4518461e-04, ...,\n",
              "         -7.7749498e-04, -9.8387874e-04, -3.7287266e-04],\n",
              "        [-8.1699481e-04, -5.4541597e-04, -9.0795272e-04, ...,\n",
              "          7.3625840e-04,  2.6398612e-04,  4.8266997e-04],\n",
              "        ...,\n",
              "        [ 7.8716758e-04,  5.6727062e-04,  8.7655254e-04, ...,\n",
              "          1.4996587e-04, -3.9842946e-04,  1.6698864e-04],\n",
              "        [ 3.2898353e-04, -2.3033879e-04, -3.0824736e-05, ...,\n",
              "         -7.7108278e-05,  8.6953200e-04,  5.3591060e-04],\n",
              "        [-5.4617267e-04,  6.9505803e-04,  1.0164361e-03, ...,\n",
              "         -6.2932580e-05, -2.9113228e-04, -1.9767888e-04]], dtype=float32),\n",
              " array([[-8.3303539e-04,  1.4072159e-04,  4.8121964e-04, ...,\n",
              "         -1.9262987e-04,  5.6820305e-04,  9.3982631e-04],\n",
              "        [-3.3684348e-04, -9.3822554e-04,  7.4031414e-04, ...,\n",
              "          4.9857731e-04, -8.5960230e-04,  6.7094446e-04],\n",
              "        [-2.9966480e-04, -5.9029332e-04, -6.4140989e-04, ...,\n",
              "         -8.5471937e-04,  4.8076495e-04,  4.2741391e-04],\n",
              "        [-5.9123954e-04, -5.6115899e-04,  1.5063900e-04, ...,\n",
              "         -4.8085538e-05, -8.0968486e-04,  9.7098743e-04],\n",
              "        [ 9.0451387e-04,  1.2373357e-04, -4.3613266e-04, ...,\n",
              "          9.3078379e-05, -1.6254635e-04, -7.8322068e-05],\n",
              "        [-5.4617267e-04,  6.9505803e-04,  1.0164361e-03, ...,\n",
              "         -6.2932580e-05, -2.9113228e-04, -1.9767888e-04]], dtype=float32),\n",
              " array([[ 7.84187345e-04,  8.65777198e-04, -1.44850681e-04, ...,\n",
              "         -9.42987390e-04,  4.03047015e-04,  1.37994475e-05],\n",
              "        [-8.33035388e-04,  1.40721590e-04,  4.81219642e-04, ...,\n",
              "         -1.92629872e-04,  5.68203046e-04,  9.39826306e-04],\n",
              "        [-3.36843485e-04, -9.38225538e-04,  7.40314135e-04, ...,\n",
              "          4.98577312e-04, -8.59602296e-04,  6.70944457e-04],\n",
              "        ...,\n",
              "        [-5.91239543e-04, -5.61158988e-04,  1.50638996e-04, ...,\n",
              "         -4.80855379e-05, -8.09684861e-04,  9.70987428e-04],\n",
              "        [-4.15080984e-04,  1.83479406e-05,  5.69166499e-04, ...,\n",
              "         -9.60169564e-05, -9.38774261e-04,  9.14556906e-04],\n",
              "        [-5.46172669e-04,  6.95058028e-04,  1.01643614e-03, ...,\n",
              "         -6.29325805e-05, -2.91132281e-04, -1.97678877e-04]], dtype=float32),\n",
              " array([[-3.3684348e-04, -9.3822554e-04,  7.4031414e-04, ...,\n",
              "          4.9857731e-04, -8.5960230e-04,  6.7094446e-04],\n",
              "        [-2.1872383e-04, -8.8078523e-04, -5.1804446e-04, ...,\n",
              "         -7.7713013e-04, -8.4820576e-04,  2.3353372e-04],\n",
              "        [ 2.1832321e-04,  5.0466333e-04, -4.3511868e-04, ...,\n",
              "          2.9414607e-04, -7.3143549e-04,  1.1345062e-05],\n",
              "        ...,\n",
              "        [ 6.9264171e-04,  4.8014111e-04,  1.0241342e-03, ...,\n",
              "         -3.6433886e-04, -7.8046852e-04,  8.2547375e-04],\n",
              "        [ 3.8792161e-04,  9.2534843e-04,  6.5865676e-04, ...,\n",
              "         -3.3905354e-04, -5.6416250e-04, -7.2049955e-04],\n",
              "        [-5.4617267e-04,  6.9505803e-04,  1.0164361e-03, ...,\n",
              "         -6.2932580e-05, -2.9113228e-04, -1.9767888e-04]], dtype=float32),\n",
              " array([[-8.3303539e-04,  1.4072159e-04,  4.8121964e-04, ...,\n",
              "         -1.9262987e-04,  5.6820305e-04,  9.3982631e-04],\n",
              "        [-3.3684348e-04, -9.3822554e-04,  7.4031414e-04, ...,\n",
              "          4.9857731e-04, -8.5960230e-04,  6.7094446e-04],\n",
              "        [ 7.8716758e-04,  5.6727062e-04,  8.7655254e-04, ...,\n",
              "          1.4996587e-04, -3.9842946e-04,  1.6698864e-04],\n",
              "        ...,\n",
              "        [-8.4289326e-04,  9.2765497e-04,  4.4944632e-04, ...,\n",
              "         -2.5056314e-04, -8.1547286e-04,  2.6179536e-04],\n",
              "        [-1.0121671e-03, -2.5234930e-04, -6.3551753e-04, ...,\n",
              "          1.3784459e-04,  3.5771454e-04, -1.5550586e-04],\n",
              "        [-5.4617267e-04,  6.9505803e-04,  1.0164361e-03, ...,\n",
              "         -6.2932580e-05, -2.9113228e-04, -1.9767888e-04]], dtype=float32),\n",
              " array([[-2.5590367e-04, -8.2067236e-05,  1.9753820e-04, ...,\n",
              "         -5.1517755e-04,  1.8009103e-05, -6.8235036e-04],\n",
              "        [ 7.6985214e-04,  2.8475447e-04,  1.7392651e-04, ...,\n",
              "         -4.3301526e-04, -1.9254877e-04,  2.9967385e-04],\n",
              "        [ 1.9409673e-04, -4.4455650e-04,  5.4879126e-04, ...,\n",
              "         -1.9494961e-04,  5.5419927e-04,  2.1218721e-04],\n",
              "        ...,\n",
              "        [ 2.9468862e-04,  3.8416430e-04, -7.5870985e-04, ...,\n",
              "          7.2092685e-04, -9.9132617e-04, -7.9056778e-04],\n",
              "        [ 7.2560430e-04, -9.5070322e-04, -8.7678287e-04, ...,\n",
              "          2.7193694e-04, -6.8933849e-04, -2.4171920e-04],\n",
              "        [-5.4617267e-04,  6.9505803e-04,  1.0164361e-03, ...,\n",
              "         -6.2932580e-05, -2.9113228e-04, -1.9767888e-04]], dtype=float32),\n",
              " array([[-8.33035388e-04,  1.40721590e-04,  4.81219642e-04, ...,\n",
              "         -1.92629872e-04,  5.68203046e-04,  9.39826306e-04],\n",
              "        [-3.36843485e-04, -9.38225538e-04,  7.40314135e-04, ...,\n",
              "          4.98577312e-04, -8.59602296e-04,  6.70944457e-04],\n",
              "        [ 7.87167577e-04,  5.67270617e-04,  8.76552542e-04, ...,\n",
              "          1.49965868e-04, -3.98429460e-04,  1.66988641e-04],\n",
              "        ...,\n",
              "        [-7.77396141e-04,  9.34305310e-04,  3.43485153e-04, ...,\n",
              "         -5.93368721e-04,  1.84502773e-04, -7.52811029e-04],\n",
              "        [ 4.25807986e-04, -6.56858610e-04,  5.08292695e-04, ...,\n",
              "          4.27860476e-04, -1.95801709e-04,  1.05976054e-04],\n",
              "        [-5.46172669e-04,  6.95058028e-04,  1.01643614e-03, ...,\n",
              "         -6.29325805e-05, -2.91132281e-04, -1.97678877e-04]], dtype=float32),\n",
              " array([[ 6.8259792e-04, -2.5865919e-04, -8.5507229e-04, ...,\n",
              "         -3.4453475e-04,  3.8633385e-04, -4.5018792e-04],\n",
              "        [ 3.4089203e-04, -7.7579526e-04,  8.7208423e-04, ...,\n",
              "          8.8338432e-04,  4.3603551e-04,  7.9061353e-04],\n",
              "        [ 7.8716758e-04,  5.6727062e-04,  8.7655254e-04, ...,\n",
              "          1.4996587e-04, -3.9842946e-04,  1.6698864e-04],\n",
              "        ...,\n",
              "        [-4.8911938e-04, -5.7509571e-04, -5.2845862e-04, ...,\n",
              "          1.2774720e-04,  3.1033091e-04, -3.4261160e-04],\n",
              "        [-7.7739614e-04,  9.3430531e-04,  3.4348515e-04, ...,\n",
              "         -5.9336872e-04,  1.8450277e-04, -7.5281103e-04],\n",
              "        [-5.4617267e-04,  6.9505803e-04,  1.0164361e-03, ...,\n",
              "         -6.2932580e-05, -2.9113228e-04, -1.9767888e-04]], dtype=float32),\n",
              " array([[ 2.7999695e-04,  7.6813292e-04,  6.4163399e-04, ...,\n",
              "          2.3562770e-04,  8.6325163e-04,  7.6079858e-04],\n",
              "        [-7.8173965e-04,  1.4063268e-04,  2.6842131e-04, ...,\n",
              "          2.3926630e-04,  9.3040976e-04, -8.3828968e-04],\n",
              "        [-8.8234618e-04,  9.4729086e-04, -8.6892099e-04, ...,\n",
              "          5.4213077e-05,  8.9309079e-04, -3.3408258e-04],\n",
              "        ...,\n",
              "        [ 9.2873402e-04,  8.4418338e-04,  6.1853498e-04, ...,\n",
              "         -1.8732957e-04, -2.8124018e-04,  4.8840244e-04],\n",
              "        [ 4.6485718e-04, -3.5404490e-04,  3.6876736e-04, ...,\n",
              "         -1.1776326e-04,  5.8125285e-04, -3.3537723e-04],\n",
              "        [-5.4617267e-04,  6.9505803e-04,  1.0164361e-03, ...,\n",
              "         -6.2932580e-05, -2.9113228e-04, -1.9767888e-04]], dtype=float32),\n",
              " array([[-8.3620293e-04, -9.3321543e-04,  8.5202081e-04, ...,\n",
              "          3.6307034e-04, -2.5859947e-04, -4.2487818e-04],\n",
              "        [ 6.3666835e-04, -4.8143981e-04, -8.8588049e-04, ...,\n",
              "          5.1499443e-05, -4.4479439e-04, -9.1226207e-04],\n",
              "        [-5.3960748e-04, -5.4556585e-04, -5.2495085e-04, ...,\n",
              "          3.3466924e-05, -7.4214005e-04, -6.9986045e-04],\n",
              "        ...,\n",
              "        [-5.3960748e-04, -5.4556585e-04, -5.2495085e-04, ...,\n",
              "          3.3466924e-05, -7.4214005e-04, -6.9986045e-04],\n",
              "        [ 7.6500635e-04, -5.4329267e-04,  3.3207770e-04, ...,\n",
              "          8.7034050e-04,  3.7264993e-04,  3.4173520e-04],\n",
              "        [-5.4617267e-04,  6.9505803e-04,  1.0164361e-03, ...,\n",
              "         -6.2932580e-05, -2.9113228e-04, -1.9767888e-04]], dtype=float32),\n",
              " array([[ 3.8792161e-04,  9.2534843e-04,  6.5865676e-04, ...,\n",
              "         -3.3905354e-04, -5.6416250e-04, -7.2049955e-04],\n",
              "        [-5.3960748e-04, -5.4556585e-04, -5.2495085e-04, ...,\n",
              "          3.3466924e-05, -7.4214005e-04, -6.9986045e-04],\n",
              "        [ 6.8259792e-04, -2.5865919e-04, -8.5507229e-04, ...,\n",
              "         -3.4453475e-04,  3.8633385e-04, -4.5018792e-04],\n",
              "        ...,\n",
              "        [ 6.0882047e-04, -4.5074380e-04,  2.8803214e-04, ...,\n",
              "          5.0173642e-04,  4.7312010e-04,  3.2328255e-04],\n",
              "        [-3.1079675e-04,  6.2726997e-04,  7.7357038e-04, ...,\n",
              "          8.6808046e-05, -8.1354368e-04, -7.0723612e-04],\n",
              "        [-5.4617267e-04,  6.9505803e-04,  1.0164361e-03, ...,\n",
              "         -6.2932580e-05, -2.9113228e-04, -1.9767888e-04]], dtype=float32),\n",
              " array([[ 2.7999695e-04,  7.6813292e-04,  6.4163399e-04, ...,\n",
              "          2.3562770e-04,  8.6325163e-04,  7.6079858e-04],\n",
              "        [-9.1056351e-04, -9.6239231e-04,  1.0136198e-03, ...,\n",
              "         -7.3644362e-04, -3.8835383e-04, -8.5588428e-04],\n",
              "        [-7.2718726e-04,  6.2486113e-05,  5.6417059e-04, ...,\n",
              "          1.6331642e-04, -8.9878886e-04,  7.1068027e-04],\n",
              "        ...,\n",
              "        [-8.9072091e-05, -3.7098289e-04, -2.0379313e-04, ...,\n",
              "         -4.4315009e-04,  4.1728592e-05, -7.9158269e-04],\n",
              "        [-4.2436528e-04,  6.2260317e-04,  7.9801737e-04, ...,\n",
              "          8.8537449e-04,  1.9777179e-04,  1.3129595e-04],\n",
              "        [-5.4617267e-04,  6.9505803e-04,  1.0164361e-03, ...,\n",
              "         -6.2932580e-05, -2.9113228e-04, -1.9767888e-04]], dtype=float32),\n",
              " array([[ 2.8548043e-04, -6.5348569e-05, -5.0312949e-05, ...,\n",
              "         -6.5348076e-04, -6.3403533e-04, -9.5952273e-04],\n",
              "        [-8.6877268e-04, -5.5624213e-04,  7.8838097e-04, ...,\n",
              "          8.7255519e-04,  8.4378774e-04,  9.2411274e-04],\n",
              "        [-3.8331340e-04,  4.3120392e-04,  3.7079092e-04, ...,\n",
              "         -3.8569499e-04, -3.0273898e-04, -7.0630549e-04],\n",
              "        [-9.4584009e-04, -5.8822974e-04, -4.7068647e-04, ...,\n",
              "         -2.9149000e-04, -2.7385080e-04,  4.5137224e-04],\n",
              "        [-5.4617267e-04,  6.9505803e-04,  1.0164361e-03, ...,\n",
              "         -6.2932580e-05, -2.9113228e-04, -1.9767888e-04]], dtype=float32),\n",
              " array([[ 2.8548043e-04, -6.5348569e-05, -5.0312949e-05, ...,\n",
              "         -6.5348076e-04, -6.3403533e-04, -9.5952273e-04],\n",
              "        [ 3.4089203e-04, -7.7579526e-04,  8.7208423e-04, ...,\n",
              "          8.8338432e-04,  4.3603551e-04,  7.9061353e-04],\n",
              "        [ 7.2560430e-04, -9.5070322e-04, -8.7678287e-04, ...,\n",
              "          2.7193694e-04, -6.8933849e-04, -2.4171920e-04],\n",
              "        ...,\n",
              "        [-6.8102247e-04, -1.0678826e-04,  5.8407994e-04, ...,\n",
              "         -9.3979930e-04,  7.3919754e-04,  8.4432494e-04],\n",
              "        [-9.4951486e-04, -3.5363442e-04, -7.8753731e-04, ...,\n",
              "         -9.2186622e-04, -7.2598172e-04, -1.0664471e-04],\n",
              "        [-5.4617267e-04,  6.9505803e-04,  1.0164361e-03, ...,\n",
              "         -6.2932580e-05, -2.9113228e-04, -1.9767888e-04]], dtype=float32),\n",
              " array([[-3.6088022e-05, -2.1580924e-04, -2.3942087e-04, ...,\n",
              "         -4.4143634e-04,  5.3229447e-05, -1.5790913e-04],\n",
              "        [-8.4289326e-04,  9.2765497e-04,  4.4944632e-04, ...,\n",
              "         -2.5056314e-04, -8.1547286e-04,  2.6179536e-04],\n",
              "        [ 9.8202538e-05,  5.1418792e-05, -4.6598932e-04, ...,\n",
              "         -9.5582922e-04,  6.3192722e-04, -9.0928620e-04],\n",
              "        ...,\n",
              "        [-9.7601478e-05,  2.1576245e-04, -8.0099597e-04, ...,\n",
              "          1.0110537e-03,  6.0347270e-04, -3.1912419e-05],\n",
              "        [-7.7739614e-04,  9.3430531e-04,  3.4348515e-04, ...,\n",
              "         -5.9336872e-04,  1.8450277e-04, -7.5281103e-04],\n",
              "        [-5.4617267e-04,  6.9505803e-04,  1.0164361e-03, ...,\n",
              "         -6.2932580e-05, -2.9113228e-04, -1.9767888e-04]], dtype=float32),\n",
              " array([[ 6.0778094e-04, -3.9263137e-05, -3.9552490e-04, ...,\n",
              "         -4.2559000e-04,  3.9697083e-04,  9.3429856e-04],\n",
              "        [-7.7590637e-04, -5.2625738e-04, -4.8703566e-04, ...,\n",
              "          9.1042944e-05, -3.2356274e-04, -5.7920340e-07],\n",
              "        [-9.4349642e-04, -3.7576663e-04, -8.9935947e-04, ...,\n",
              "         -3.7096985e-04, -8.4231660e-04,  8.1477733e-04],\n",
              "        ...,\n",
              "        [ 5.4977217e-04, -3.4381429e-04, -1.0668874e-04, ...,\n",
              "         -3.7719938e-04, -1.3429635e-04,  8.8191358e-04],\n",
              "        [-9.4584009e-04, -5.8822974e-04, -4.7068647e-04, ...,\n",
              "         -2.9149000e-04, -2.7385080e-04,  4.5137224e-04],\n",
              "        [-5.4617267e-04,  6.9505803e-04,  1.0164361e-03, ...,\n",
              "         -6.2932580e-05, -2.9113228e-04, -1.9767888e-04]], dtype=float32),\n",
              " array([[-9.1056351e-04, -9.6239231e-04,  1.0136198e-03, ...,\n",
              "         -7.3644362e-04, -3.8835383e-04, -8.5588428e-04],\n",
              "        [-4.9196952e-04,  1.0008214e-03, -8.6403749e-04, ...,\n",
              "          7.6036420e-05, -5.3064380e-04, -6.3153962e-04],\n",
              "        [-1.1017593e-04, -9.1079669e-04, -4.7030942e-05, ...,\n",
              "          8.0746139e-04,  1.8058816e-04,  9.3408267e-04],\n",
              "        ...,\n",
              "        [ 5.4977217e-04, -3.4381429e-04, -1.0668874e-04, ...,\n",
              "         -3.7719938e-04, -1.3429635e-04,  8.8191358e-04],\n",
              "        [-9.4584009e-04, -5.8822974e-04, -4.7068647e-04, ...,\n",
              "         -2.9149000e-04, -2.7385080e-04,  4.5137224e-04],\n",
              "        [-5.4617267e-04,  6.9505803e-04,  1.0164361e-03, ...,\n",
              "         -6.2932580e-05, -2.9113228e-04, -1.9767888e-04]], dtype=float32),\n",
              " array([[-8.8338053e-04,  4.6307471e-04, -4.6088948e-04, ...,\n",
              "         -1.3798280e-04,  5.4985005e-04,  8.6617467e-05],\n",
              "        [-8.6877268e-04, -5.5624213e-04,  7.8838097e-04, ...,\n",
              "          8.7255519e-04,  8.4378774e-04,  9.2411274e-04],\n",
              "        [-1.0121671e-03, -2.5234930e-04, -6.3551753e-04, ...,\n",
              "          1.3784459e-04,  3.5771454e-04, -1.5550586e-04],\n",
              "        ...,\n",
              "        [-8.4289326e-04,  9.2765497e-04,  4.4944632e-04, ...,\n",
              "         -2.5056314e-04, -8.1547286e-04,  2.6179536e-04],\n",
              "        [ 3.2490262e-04,  3.2525233e-04,  1.5338458e-04, ...,\n",
              "          2.3092855e-04,  3.7854930e-05, -4.1864484e-04],\n",
              "        [-5.4617267e-04,  6.9505803e-04,  1.0164361e-03, ...,\n",
              "         -6.2932580e-05, -2.9113228e-04, -1.9767888e-04]], dtype=float32),\n",
              " array([[-3.67640168e-04,  6.89672306e-04, -6.64227584e-04, ...,\n",
              "         -7.42708158e-04, -2.18855261e-04,  1.09847024e-04],\n",
              "        [-3.78826226e-04, -4.60389449e-04,  6.50199596e-04, ...,\n",
              "          9.04933986e-05, -1.03982245e-04, -6.14591874e-04],\n",
              "        [-5.46172669e-04,  6.95058028e-04,  1.01643614e-03, ...,\n",
              "         -6.29325805e-05, -2.91132281e-04, -1.97678877e-04]], dtype=float32),\n",
              " array([[ 6.36668352e-04, -4.81439813e-04, -8.85880494e-04, ...,\n",
              "          5.14994426e-05, -4.44794394e-04, -9.12262069e-04],\n",
              "        [-5.39607485e-04, -5.45565854e-04, -5.24950854e-04, ...,\n",
              "          3.34669239e-05, -7.42140051e-04, -6.99860451e-04],\n",
              "        [ 7.69852137e-04,  2.84754467e-04,  1.73926514e-04, ...,\n",
              "         -4.33015259e-04, -1.92548774e-04,  2.99673848e-04],\n",
              "        ...,\n",
              "        [-4.89119382e-04, -5.75095706e-04, -5.28458622e-04, ...,\n",
              "          1.27747204e-04,  3.10330914e-04, -3.42611602e-04],\n",
              "        [-3.78826226e-04, -4.60389449e-04,  6.50199596e-04, ...,\n",
              "          9.04933986e-05, -1.03982245e-04, -6.14591874e-04],\n",
              "        [-5.46172669e-04,  6.95058028e-04,  1.01643614e-03, ...,\n",
              "         -6.29325805e-05, -2.91132281e-04, -1.97678877e-04]], dtype=float32),\n",
              " array([[-4.5377994e-04, -6.5458391e-04,  5.8642664e-04, ...,\n",
              "          6.4253004e-04,  6.5880903e-04,  1.4033039e-04],\n",
              "        [-8.9072091e-05, -3.7098289e-04, -2.0379313e-04, ...,\n",
              "         -4.4315009e-04,  4.1728592e-05, -7.9158269e-04],\n",
              "        [-8.5286720e-04,  7.6695654e-04,  4.5023626e-04, ...,\n",
              "          7.0837181e-04, -6.4507598e-04,  7.1625784e-04],\n",
              "        ...,\n",
              "        [ 7.1441539e-04, -9.6663792e-04, -5.3492241e-04, ...,\n",
              "         -2.4382387e-04, -3.9093319e-04,  1.7912056e-04],\n",
              "        [ 3.8792161e-04,  9.2534843e-04,  6.5865676e-04, ...,\n",
              "         -3.3905354e-04, -5.6416250e-04, -7.2049955e-04],\n",
              "        [-5.4617267e-04,  6.9505803e-04,  1.0164361e-03, ...,\n",
              "         -6.2932580e-05, -2.9113228e-04, -1.9767888e-04]], dtype=float32),\n",
              " array([[-5.6259171e-04, -6.2604982e-04,  2.3947768e-04, ...,\n",
              "          2.4610132e-04,  4.3728429e-05,  1.7336177e-05],\n",
              "        [-1.3797966e-04,  9.1418612e-04, -7.3405099e-04, ...,\n",
              "          6.9674005e-04, -4.8260999e-04,  5.3991214e-04],\n",
              "        [-5.4617267e-04,  6.9505803e-04,  1.0164361e-03, ...,\n",
              "         -6.2932580e-05, -2.9113228e-04, -1.9767888e-04]], dtype=float32),\n",
              " array([[-9.1056351e-04, -9.6239231e-04,  1.0136198e-03, ...,\n",
              "         -7.3644362e-04, -3.8835383e-04, -8.5588428e-04],\n",
              "        [-9.1830589e-05,  6.6335552e-04, -6.3591462e-04, ...,\n",
              "         -3.4928272e-04, -2.0048385e-04,  5.2386511e-04],\n",
              "        [ 1.5285973e-04, -5.4842967e-04, -9.4026662e-05, ...,\n",
              "         -5.0929631e-04,  6.7334808e-04, -1.0692370e-04],\n",
              "        ...,\n",
              "        [-1.3797966e-04,  9.1418612e-04, -7.3405099e-04, ...,\n",
              "          6.9674005e-04, -4.8260999e-04,  5.3991214e-04],\n",
              "        [-3.9207481e-04, -4.4405778e-04, -7.2771771e-04, ...,\n",
              "         -2.0007373e-04, -9.3225477e-04,  2.4379147e-04],\n",
              "        [-5.4617267e-04,  6.9505803e-04,  1.0164361e-03, ...,\n",
              "         -6.2932580e-05, -2.9113228e-04, -1.9767888e-04]], dtype=float32),\n",
              " array([[-9.1056351e-04, -9.6239231e-04,  1.0136198e-03, ...,\n",
              "         -7.3644362e-04, -3.8835383e-04, -8.5588428e-04],\n",
              "        [-7.2718726e-04,  6.2486113e-05,  5.6417059e-04, ...,\n",
              "          1.6331642e-04, -8.9878886e-04,  7.1068027e-04],\n",
              "        [-6.7413261e-04,  5.8820302e-04,  8.3261309e-04, ...,\n",
              "          6.0318428e-04,  8.0934353e-04,  7.0438313e-04],\n",
              "        ...,\n",
              "        [ 8.4622705e-04, -7.9041818e-04,  4.9852568e-04, ...,\n",
              "         -9.6043565e-05, -6.3496741e-04, -3.8678671e-05],\n",
              "        [-5.6259171e-04, -6.2604982e-04,  2.3947768e-04, ...,\n",
              "          2.4610132e-04,  4.3728429e-05,  1.7336177e-05],\n",
              "        [-5.4617267e-04,  6.9505803e-04,  1.0164361e-03, ...,\n",
              "         -6.2932580e-05, -2.9113228e-04, -1.9767888e-04]], dtype=float32),\n",
              " array([[-4.9196952e-04,  1.0008214e-03, -8.6403749e-04, ...,\n",
              "          7.6036420e-05, -5.3064380e-04, -6.3153962e-04],\n",
              "        [ 9.2087407e-04,  8.6000620e-04,  5.1955832e-04, ...,\n",
              "         -7.1875221e-04, -3.3520650e-05,  4.8271319e-04],\n",
              "        [ 3.8095537e-04, -3.1292767e-04,  5.6033744e-04, ...,\n",
              "          6.5153302e-04,  8.6961016e-05, -7.4163900e-04],\n",
              "        [-4.6353351e-05,  6.6841725e-04,  4.7299423e-04, ...,\n",
              "         -3.0435280e-05,  7.7486318e-04,  3.1703958e-04],\n",
              "        [ 2.0200705e-04, -7.2868093e-04,  2.5158486e-04, ...,\n",
              "          2.2698054e-05, -3.1825714e-04,  2.4063242e-04],\n",
              "        [-5.4617267e-04,  6.9505803e-04,  1.0164361e-03, ...,\n",
              "         -6.2932580e-05, -2.9113228e-04, -1.9767888e-04]], dtype=float32),\n",
              " array([[-4.91969520e-04,  1.00082136e-03, -8.64037487e-04, ...,\n",
              "          7.60364201e-05, -5.30643796e-04, -6.31539617e-04],\n",
              "        [ 9.20874067e-04,  8.60006199e-04,  5.19558322e-04, ...,\n",
              "         -7.18752213e-04, -3.35206496e-05,  4.82713192e-04],\n",
              "        [-8.16994812e-04, -5.45415969e-04, -9.07952723e-04, ...,\n",
              "          7.36258400e-04,  2.63986120e-04,  4.82669973e-04],\n",
              "        ...,\n",
              "        [-8.83137283e-04, -3.85704596e-04,  8.18463857e-04, ...,\n",
              "          3.12756078e-04,  1.37942043e-04, -7.13528600e-04],\n",
              "        [-5.05623175e-04,  5.72349527e-04,  7.50898791e-04, ...,\n",
              "          1.20443176e-04,  4.50154155e-04,  9.89123713e-04],\n",
              "        [-5.46172669e-04,  6.95058028e-04,  1.01643614e-03, ...,\n",
              "         -6.29325805e-05, -2.91132281e-04, -1.97678877e-04]], dtype=float32),\n",
              " array([[-9.3590328e-04,  2.9976809e-04,  2.8259869e-04, ...,\n",
              "         -4.1706068e-04,  7.2766864e-04,  7.1454553e-05],\n",
              "        [ 6.8522027e-06,  6.3717668e-04, -6.0902978e-04, ...,\n",
              "         -6.7429111e-04, -7.5687532e-04,  4.3303371e-05],\n",
              "        [-3.3684348e-04, -9.3822554e-04,  7.4031414e-04, ...,\n",
              "          4.9857731e-04, -8.5960230e-04,  6.7094446e-04],\n",
              "        ...,\n",
              "        [-3.3684348e-04, -9.3822554e-04,  7.4031414e-04, ...,\n",
              "          4.9857731e-04, -8.5960230e-04,  6.7094446e-04],\n",
              "        [-7.0520776e-04,  7.4605190e-04, -9.3936763e-04, ...,\n",
              "         -2.5788008e-04,  9.0910755e-05,  7.7908835e-04],\n",
              "        [-5.4617267e-04,  6.9505803e-04,  1.0164361e-03, ...,\n",
              "         -6.2932580e-05, -2.9113228e-04, -1.9767888e-04]], dtype=float32),\n",
              " array([[-8.36202933e-04, -9.33215430e-04,  8.52020807e-04, ...,\n",
              "          3.63070343e-04, -2.58599466e-04, -4.24878177e-04],\n",
              "        [ 4.43880039e-04, -6.30313414e-04,  7.17177521e-04, ...,\n",
              "          3.44645785e-04,  1.84692124e-06,  1.83891229e-04],\n",
              "        [-5.87798655e-04,  1.84200690e-04, -6.04278583e-04, ...,\n",
              "         -6.33749063e-04, -1.91016981e-04,  7.26103433e-04],\n",
              "        ...,\n",
              "        [-5.94486715e-04, -8.11006874e-04,  7.66167708e-04, ...,\n",
              "         -2.14629792e-04, -6.43255422e-04, -1.30861945e-05],\n",
              "        [ 1.90840059e-04,  7.45969941e-04,  1.70443207e-04, ...,\n",
              "         -1.72020504e-04,  2.52073078e-04, -1.57698072e-04],\n",
              "        [-5.46172669e-04,  6.95058028e-04,  1.01643614e-03, ...,\n",
              "         -6.29325805e-05, -2.91132281e-04, -1.97678877e-04]], dtype=float32)]"
            ]
          },
          "metadata": {
            "tags": []
          },
          "execution_count": 57
        }
      ]
    },
    {
      "metadata": {
        "id": "5-4HDDxLkMtu",
        "colab_type": "code",
        "outputId": "350e3a67-8e85-4e53-b593-f7e4aeb4bbbb",
        "colab": {
          "base_uri": "https://localhost:8080/",
          "height": 868
        }
      },
      "cell_type": "code",
      "source": [
        "for i in range(len(output_of_words)):\n",
        "  print(len(output_of_words[i]))"
      ],
      "execution_count": 0,
      "outputs": [
        {
          "output_type": "stream",
          "text": [
            "9\n",
            "7\n",
            "8\n",
            "8\n",
            "19\n",
            "5\n",
            "12\n",
            "13\n",
            "5\n",
            "9\n",
            "7\n",
            "20\n",
            "10\n",
            "10\n",
            "6\n",
            "9\n",
            "9\n",
            "12\n",
            "11\n",
            "6\n",
            "9\n",
            "9\n",
            "6\n",
            "11\n",
            "10\n",
            "11\n",
            "16\n",
            "9\n",
            "8\n",
            "9\n",
            "8\n",
            "17\n",
            "23\n",
            "5\n",
            "14\n",
            "9\n",
            "15\n",
            "15\n",
            "20\n",
            "3\n",
            "12\n",
            "7\n",
            "3\n",
            "9\n",
            "19\n",
            "6\n",
            "17\n",
            "8\n",
            "11\n"
          ],
          "name": "stdout"
        }
      ]
    },
    {
      "metadata": {
        "id": "YCyJqfCokeCF",
        "colab_type": "code",
        "colab": {}
      },
      "cell_type": "code",
      "source": [
        "with open(\"drive/My Drive/hindi sentences.txt\", encoding='utf-16') as f1:\n",
        "    s1 = f1.read()\n",
        "  \n",
        "# Replaces escape character with space \n",
        "f1= s1.replace('|', '')\n"
      ],
      "execution_count": 0,
      "outputs": []
    },
    {
      "metadata": {
        "id": "3H2qiCSfaQMK",
        "colab_type": "code",
        "colab": {}
      },
      "cell_type": "code",
      "source": [
        "data1 = [] \n",
        "max_y=0\n",
        "\n",
        "k=0\n",
        "\n",
        "hin_ind_to_char = {}\n",
        "\n",
        "# iterate through each sentence in the file \n",
        "for i in sent_tokenize(f1): \n",
        "    temp = [] \n",
        "    # tokenize the sentence into words\n",
        "    \n",
        "    for j in word_tokenize(i): \n",
        "        if j not in stop_words:\n",
        "       \n",
        "          \n",
        "          if j==\"।\":\n",
        "            data1.append(temp)\n",
        "            temp=[]\n",
        "          else:\n",
        "            temp.append(j.lower())\n",
        "            hin_ind_to_char[k] = j.lower()\n",
        "            k=k+1"
      ],
      "execution_count": 0,
      "outputs": []
    },
    {
      "metadata": {
        "id": "sblFF9WYwDhY",
        "colab_type": "code",
        "outputId": "55613f05-a678-4345-896e-2e0757e1dc25",
        "colab": {
          "base_uri": "https://localhost:8080/",
          "height": 54
        }
      },
      "cell_type": "code",
      "source": [
        "print(data1)"
      ],
      "execution_count": 0,
      "outputs": [
        {
          "output_type": "stream",
          "text": [
            "[['ताजा', 'साँसें', 'और', 'चमचमाते', 'दाँत', 'आपके', 'व्यक्तित्व', 'को', 'निखारते', 'हैं'], ['दाँतों', 'से', 'आपका', 'आत्मविश्\\u200dवास', 'भी', 'बढ़ता', 'है'], ['हमारे', 'मसूढ़ों', 'और', 'दाँतों', 'के', 'बीच', 'बैक्टीरिया', 'मौजूद', 'होते', 'हैं'], ['ये', 'दाँतों', 'को', 'गंदा', 'और', 'साँसों', 'को', 'बदबूदार', 'बना', 'देते', 'हैं'], ['यहाँ', 'दिए', 'कुछ', 'आसान', 'नुस्खों', 'की', 'मदद', 'से', 'आप', 'अपने', 'दाँतों', 'को', 'स्वच्छ', 'और', 'साँसों', 'को', 'ताजा', 'रख', 'सकते', 'हैं'], ['दाँतों', 'को', 'ठीक', 'से', 'साफ', 'करें'], ['दाँतों', 'को', 'ठीक', 'से', 'साफ', 'करने', 'में', 'दो', 'से', 'तीन', 'मिनट', 'का', 'समय', 'लगता', 'है'], ['लेकिन', 'ज्यादातर', 'लोग', 'इसके', 'लिए', 'एक', 'मिनट', 'से', 'भी', 'कम', 'समय', 'देते', 'हैं'], ['खूब', 'पानी', 'पीएँ'], ['मुँह', 'सूखने', 'पर', 'बैक्टीरिया', 'हमला', 'तेज', 'कर', 'देते', 'हैं'], ['इससे', 'साँसों', 'से', 'बदबू', 'आने', 'लगती', 'है'], ['खूब', 'पानी', 'पीने', 'से', 'न', 'केवल', 'खाने', 'के', 'बचे', '-', 'खुचे', 'टुकड़े', 'साफ', 'हो', 'जाते', 'हैं', ',', 'बल्कि', 'लार', 'भी', 'बनती', 'है'], ['मुँह', 'साफ', 'रखने', 'में', 'लार', 'की', 'खास', 'भूमिका', 'होती', 'है'], ['लार', 'उन', 'बैक्टीरिया', 'को', 'नष्ट', 'करती', 'है', 'जो', 'साँसों', 'में', 'बदबू', 'पैदा', 'करते', 'हैं'], ['चबाएँ', 'शुगर', 'रहित', 'चुइंग', 'गम'], ['चुइंग', 'गम', 'चबाने', 'से', 'लार', 'बनती', 'है'], ['चुइंग', 'गम', 'से', 'दाँतों', 'को', 'साफ', 'रखने', 'में', 'मदद', 'मिलती', 'है'], ['शुगर', 'युक्त', 'गम', 'को', 'सेहत', 'के', 'लिए', 'अच्छा', 'नहीं', 'माना', 'जाता'], ['इसलिए', 'डेंटिस्ट', 'शुगर', 'युक्त', 'गम', 'को', 'खाने', 'की', 'सलाह', 'नहीं', 'देते'], ['नियमित', 'रूप', 'से', 'कराएँ', 'दाँतों', 'की', 'जाँच'], ['दंतचिकित्सक', 'से', 'दाँतों', 'की', 'जाँच', 'नियमित', 'रूप', 'से', 'कराएँ'], ['वे', 'दाँतों', 'की', 'छोटी', '-', 'मोटी', 'समस्या', 'को', 'आसानी', 'से', 'सुलझा', 'देते', 'हैं'], ['खाने', 'के', 'बाद', 'मुँह', 'साफ', 'करें'], ['हर', 'बार', 'खाने', 'के', 'बाद', 'पानी', 'से', 'मुँह', 'जरूर', 'साफ', 'करें'], ['इससे', 'खाने', 'के', 'बचे', 'हुए', 'टुकड़े', 'साफ', 'हो', 'जाते', 'हैं'], ['नींबू', 'और', 'नमक', 'के', 'मिश्रण', 'से', 'दाँत', 'साफ', 'करें'], ['एक', 'चम्मच', 'में', 'नमक', 'लेकर', 'उसमें', 'तीन', 'से', 'चार', 'बूंदें', 'नींबू', 'की', 'डाल', 'लें'], ['हर', 'हफ्ते', 'इस', 'मिश्रण', 'से', 'दाँतों', 'को', 'साफ', 'करें'], ['इससे', 'न', 'केवल', 'दाँत', 'चमचमाने', 'लगते', 'हैं'], ['बल्कि', 'साँसों', 'की', 'दुर्गंध', 'से', 'भी', 'छुटकारा', 'मिलता', 'है'], ['सेहत', 'है', 'तो', 'सब', 'है'], ['आज', 'की', 'व्यस्त', 'जिंदगी', 'में', 'खुद', 'को', 'स्वस्थ', 'रखना', 'किसी', 'चुनौती', 'से', 'कम', 'नहीं'], ['लेकिन', 'खान-पान', 'पर', 'ध्यान', 'और', 'जीवनशैली', 'में', 'थोड़ा', 'बदलाव', 'लाकर', 'आप', 'खुद', 'को', 'स्वस्थ', 'रख', 'सकते', 'हैं'], ['कम', 'वसायुक्त', 'आहार', 'का', 'करें', 'सेवन'], ['खाना', 'वही', 'खाएँ', 'जिसमें', 'कम', 'वसा', 'और', 'फाइबर', 'ज्यादा', 'हो'], ['फलों', 'और', 'सब्जियों', 'में', 'ऐसा', 'ही', 'अनुपात', 'रहता', 'है'], ['कम', 'वसा', 'और', 'फाइबर', 'वाले', 'खाने', 'से', 'वजन', 'नियंत्रित', 'करने', 'में', 'मदद', 'मिलती', 'है'], ['कम', 'वसा', 'और', 'फाइबर', 'वाले', 'खाने', 'से', 'आप', 'कई', 'बीमारियों', 'से', 'भी', 'दूर', 'रहते', 'हैं'], ['नमक', 'और', 'शराब', 'का', 'सेवन', 'कम', 'करें'], ['ब्लड', 'प्रेशर', 'और', 'कोलेस्ट्राल', 'को', 'नियंत्रित', 'करने', 'के', 'लिए', 'नमक', 'और', 'शराब', 'का', 'सेवन', 'कम', 'से', 'कम', 'मात्रा', 'में', 'करें'], ['बंद', 'करें', 'धूम्रपान'], ['धूम्रपान', 'करने', 'से', 'कैंसर', 'समेत', 'कई', 'बीमारियों', 'का', 'खतरा', 'होता', 'है'], ['इसे', 'छोड़ने', 'की', 'पूरी', 'कोशिश', 'करें'], ['रोज', 'करें', 'व्यायाम'], ['अपनी', 'रोज', 'की', 'दिनचर्या', 'में', 'व्यायाम', 'को', 'जरूर', 'शामिल', 'करें'], ['नियमित', 'व्यायाम', 'से', 'आप', 'हृदय', 'रोग', ',', 'कोलन', 'कैंसर', ',', 'ब्लड', 'प्रेशर', 'और', 'डायबिटीज', 'जैसी', 'बीमारियों', 'से', 'बचाव', 'कर', 'सकते', 'हैं'], ['करते', 'रहें', 'हल्की', '-', 'फुल्की', 'शारीरिक', 'गतिविधियाँ'], ['सीढ़ी', 'चढ़ना', ',', 'बागवानी', ',', 'घर', 'के', 'छोटे', '-', 'मोटे', 'काम', 'या', 'डांस', 'करने', 'जैसी', 'हल्की', '-', 'फुल्की', 'शारीरिक', 'गतिविधियाँ', 'जरूर', 'करते', 'रहें।', 'इनसे', 'शरीर', 'में', 'लचीलापन', 'बना', 'रहता', 'है'], ['यदि', 'लगातार', 'बुखार', 'आ', 'रहा', 'है', 'तो', 'उसकी', 'जाँच', 'अवश्य', 'करायें']]\n"
          ],
          "name": "stdout"
        }
      ]
    },
    {
      "metadata": {
        "id": "oIq8H2d25xV6",
        "colab_type": "code",
        "outputId": "bff50a17-d747-419c-a630-37c498092b96",
        "colab": {
          "base_uri": "https://localhost:8080/",
          "height": 54
        }
      },
      "cell_type": "code",
      "source": [
        "\n",
        "print( hin_ind_to_char)\n",
        "\n",
        "    \n"
      ],
      "execution_count": 0,
      "outputs": [
        {
          "output_type": "stream",
          "text": [
            "{0: 'ताजा', 1: 'साँसें', 2: 'और', 3: 'चमचमाते', 4: 'दाँत', 5: 'आपके', 6: 'व्यक्तित्व', 7: 'को', 8: 'निखारते', 9: 'हैं', 10: 'दाँतों', 11: 'से', 12: 'आपका', 13: 'आत्मविश्\\u200dवास', 14: 'भी', 15: 'बढ़ता', 16: 'है', 17: 'हमारे', 18: 'मसूढ़ों', 19: 'और', 20: 'दाँतों', 21: 'के', 22: 'बीच', 23: 'बैक्टीरिया', 24: 'मौजूद', 25: 'होते', 26: 'हैं', 27: 'ये', 28: 'दाँतों', 29: 'को', 30: 'गंदा', 31: 'और', 32: 'साँसों', 33: 'को', 34: 'बदबूदार', 35: 'बना', 36: 'देते', 37: 'हैं', 38: 'यहाँ', 39: 'दिए', 40: 'कुछ', 41: 'आसान', 42: 'नुस्खों', 43: 'की', 44: 'मदद', 45: 'से', 46: 'आप', 47: 'अपने', 48: 'दाँतों', 49: 'को', 50: 'स्वच्छ', 51: 'और', 52: 'साँसों', 53: 'को', 54: 'ताजा', 55: 'रख', 56: 'सकते', 57: 'हैं', 58: 'दाँतों', 59: 'को', 60: 'ठीक', 61: 'से', 62: 'साफ', 63: 'करें', 64: 'दाँतों', 65: 'को', 66: 'ठीक', 67: 'से', 68: 'साफ', 69: 'करने', 70: 'में', 71: 'दो', 72: 'से', 73: 'तीन', 74: 'मिनट', 75: 'का', 76: 'समय', 77: 'लगता', 78: 'है', 79: 'लेकिन', 80: 'ज्यादातर', 81: 'लोग', 82: 'इसके', 83: 'लिए', 84: 'एक', 85: 'मिनट', 86: 'से', 87: 'भी', 88: 'कम', 89: 'समय', 90: 'देते', 91: 'हैं', 92: 'खूब', 93: 'पानी', 94: 'पीएँ', 95: 'मुँह', 96: 'सूखने', 97: 'पर', 98: 'बैक्टीरिया', 99: 'हमला', 100: 'तेज', 101: 'कर', 102: 'देते', 103: 'हैं', 104: 'इससे', 105: 'साँसों', 106: 'से', 107: 'बदबू', 108: 'आने', 109: 'लगती', 110: 'है', 111: 'खूब', 112: 'पानी', 113: 'पीने', 114: 'से', 115: 'न', 116: 'केवल', 117: 'खाने', 118: 'के', 119: 'बचे', 120: '-', 121: 'खुचे', 122: 'टुकड़े', 123: 'साफ', 124: 'हो', 125: 'जाते', 126: 'हैं', 127: ',', 128: 'बल्कि', 129: 'लार', 130: 'भी', 131: 'बनती', 132: 'है', 133: 'मुँह', 134: 'साफ', 135: 'रखने', 136: 'में', 137: 'लार', 138: 'की', 139: 'खास', 140: 'भूमिका', 141: 'होती', 142: 'है', 143: 'लार', 144: 'उन', 145: 'बैक्टीरिया', 146: 'को', 147: 'नष्ट', 148: 'करती', 149: 'है', 150: 'जो', 151: 'साँसों', 152: 'में', 153: 'बदबू', 154: 'पैदा', 155: 'करते', 156: 'हैं', 157: 'चबाएँ', 158: 'शुगर', 159: 'रहित', 160: 'चुइंग', 161: 'गम', 162: 'चुइंग', 163: 'गम', 164: 'चबाने', 165: 'से', 166: 'लार', 167: 'बनती', 168: 'है', 169: 'चुइंग', 170: 'गम', 171: 'से', 172: 'दाँतों', 173: 'को', 174: 'साफ', 175: 'रखने', 176: 'में', 177: 'मदद', 178: 'मिलती', 179: 'है', 180: 'शुगर', 181: 'युक्त', 182: 'गम', 183: 'को', 184: 'सेहत', 185: 'के', 186: 'लिए', 187: 'अच्छा', 188: 'नहीं', 189: 'माना', 190: 'जाता', 191: 'इसलिए', 192: 'डेंटिस्ट', 193: 'शुगर', 194: 'युक्त', 195: 'गम', 196: 'को', 197: 'खाने', 198: 'की', 199: 'सलाह', 200: 'नहीं', 201: 'देते', 202: 'नियमित', 203: 'रूप', 204: 'से', 205: 'कराएँ', 206: 'दाँतों', 207: 'की', 208: 'जाँच', 209: 'दंतचिकित्सक', 210: 'से', 211: 'दाँतों', 212: 'की', 213: 'जाँच', 214: 'नियमित', 215: 'रूप', 216: 'से', 217: 'कराएँ', 218: 'वे', 219: 'दाँतों', 220: 'की', 221: 'छोटी', 222: '-', 223: 'मोटी', 224: 'समस्या', 225: 'को', 226: 'आसानी', 227: 'से', 228: 'सुलझा', 229: 'देते', 230: 'हैं', 231: 'खाने', 232: 'के', 233: 'बाद', 234: 'मुँह', 235: 'साफ', 236: 'करें', 237: 'हर', 238: 'बार', 239: 'खाने', 240: 'के', 241: 'बाद', 242: 'पानी', 243: 'से', 244: 'मुँह', 245: 'जरूर', 246: 'साफ', 247: 'करें', 248: 'इससे', 249: 'खाने', 250: 'के', 251: 'बचे', 252: 'हुए', 253: 'टुकड़े', 254: 'साफ', 255: 'हो', 256: 'जाते', 257: 'हैं', 258: 'नींबू', 259: 'और', 260: 'नमक', 261: 'के', 262: 'मिश्रण', 263: 'से', 264: 'दाँत', 265: 'साफ', 266: 'करें', 267: 'एक', 268: 'चम्मच', 269: 'में', 270: 'नमक', 271: 'लेकर', 272: 'उसमें', 273: 'तीन', 274: 'से', 275: 'चार', 276: 'बूंदें', 277: 'नींबू', 278: 'की', 279: 'डाल', 280: 'लें', 281: 'हर', 282: 'हफ्ते', 283: 'इस', 284: 'मिश्रण', 285: 'से', 286: 'दाँतों', 287: 'को', 288: 'साफ', 289: 'करें', 290: 'इससे', 291: 'न', 292: 'केवल', 293: 'दाँत', 294: 'चमचमाने', 295: 'लगते', 296: 'हैं', 297: 'बल्कि', 298: 'साँसों', 299: 'की', 300: 'दुर्गंध', 301: 'से', 302: 'भी', 303: 'छुटकारा', 304: 'मिलता', 305: 'है', 306: 'सेहत', 307: 'है', 308: 'तो', 309: 'सब', 310: 'है', 311: 'आज', 312: 'की', 313: 'व्यस्त', 314: 'जिंदगी', 315: 'में', 316: 'खुद', 317: 'को', 318: 'स्वस्थ', 319: 'रखना', 320: 'किसी', 321: 'चुनौती', 322: 'से', 323: 'कम', 324: 'नहीं', 325: 'लेकिन', 326: 'खान-पान', 327: 'पर', 328: 'ध्यान', 329: 'और', 330: 'जीवनशैली', 331: 'में', 332: 'थोड़ा', 333: 'बदलाव', 334: 'लाकर', 335: 'आप', 336: 'खुद', 337: 'को', 338: 'स्वस्थ', 339: 'रख', 340: 'सकते', 341: 'हैं', 342: 'कम', 343: 'वसायुक्त', 344: 'आहार', 345: 'का', 346: 'करें', 347: 'सेवन', 348: 'खाना', 349: 'वही', 350: 'खाएँ', 351: 'जिसमें', 352: 'कम', 353: 'वसा', 354: 'और', 355: 'फाइबर', 356: 'ज्यादा', 357: 'हो', 358: 'फलों', 359: 'और', 360: 'सब्जियों', 361: 'में', 362: 'ऐसा', 363: 'ही', 364: 'अनुपात', 365: 'रहता', 366: 'है', 367: 'कम', 368: 'वसा', 369: 'और', 370: 'फाइबर', 371: 'वाले', 372: 'खाने', 373: 'से', 374: 'वजन', 375: 'नियंत्रित', 376: 'करने', 377: 'में', 378: 'मदद', 379: 'मिलती', 380: 'है', 381: 'कम', 382: 'वसा', 383: 'और', 384: 'फाइबर', 385: 'वाले', 386: 'खाने', 387: 'से', 388: 'आप', 389: 'कई', 390: 'बीमारियों', 391: 'से', 392: 'भी', 393: 'दूर', 394: 'रहते', 395: 'हैं', 396: 'नमक', 397: 'और', 398: 'शराब', 399: 'का', 400: 'सेवन', 401: 'कम', 402: 'करें', 403: 'ब्लड', 404: 'प्रेशर', 405: 'और', 406: 'कोलेस्ट्राल', 407: 'को', 408: 'नियंत्रित', 409: 'करने', 410: 'के', 411: 'लिए', 412: 'नमक', 413: 'और', 414: 'शराब', 415: 'का', 416: 'सेवन', 417: 'कम', 418: 'से', 419: 'कम', 420: 'मात्रा', 421: 'में', 422: 'करें', 423: 'बंद', 424: 'करें', 425: 'धूम्रपान', 426: 'धूम्रपान', 427: 'करने', 428: 'से', 429: 'कैंसर', 430: 'समेत', 431: 'कई', 432: 'बीमारियों', 433: 'का', 434: 'खतरा', 435: 'होता', 436: 'है', 437: 'इसे', 438: 'छोड़ने', 439: 'की', 440: 'पूरी', 441: 'कोशिश', 442: 'करें', 443: 'रोज', 444: 'करें', 445: 'व्यायाम', 446: 'अपनी', 447: 'रोज', 448: 'की', 449: 'दिनचर्या', 450: 'में', 451: 'व्यायाम', 452: 'को', 453: 'जरूर', 454: 'शामिल', 455: 'करें', 456: 'नियमित', 457: 'व्यायाम', 458: 'से', 459: 'आप', 460: 'हृदय', 461: 'रोग', 462: ',', 463: 'कोलन', 464: 'कैंसर', 465: ',', 466: 'ब्लड', 467: 'प्रेशर', 468: 'और', 469: 'डायबिटीज', 470: 'जैसी', 471: 'बीमारियों', 472: 'से', 473: 'बचाव', 474: 'कर', 475: 'सकते', 476: 'हैं', 477: 'करते', 478: 'रहें', 479: 'हल्की', 480: '-', 481: 'फुल्की', 482: 'शारीरिक', 483: 'गतिविधियाँ', 484: 'सीढ़ी', 485: 'चढ़ना', 486: ',', 487: 'बागवानी', 488: ',', 489: 'घर', 490: 'के', 491: 'छोटे', 492: '-', 493: 'मोटे', 494: 'काम', 495: 'या', 496: 'डांस', 497: 'करने', 498: 'जैसी', 499: 'हल्की', 500: '-', 501: 'फुल्की', 502: 'शारीरिक', 503: 'गतिविधियाँ', 504: 'जरूर', 505: 'करते', 506: 'रहें।', 507: 'इनसे', 508: 'शरीर', 509: 'में', 510: 'लचीलापन', 511: 'बना', 512: 'रहता', 513: 'है', 514: 'यदि', 515: 'लगातार', 516: 'बुखार', 517: 'आ', 518: 'रहा', 519: 'है', 520: 'तो', 521: 'उसकी', 522: 'जाँच', 523: 'अवश्य', 524: 'करायें'}\n"
          ],
          "name": "stdout"
        }
      ]
    },
    {
      "metadata": {
        "id": "ycmvlX3raWEy",
        "colab_type": "code",
        "colab": {}
      },
      "cell_type": "code",
      "source": [
        "model = gensim.models.Word2Vec(data1, min_count = 1, size = 100, \n",
        "                                             window = 5, sg = 1) \n"
      ],
      "execution_count": 0,
      "outputs": []
    },
    {
      "metadata": {
        "id": "WJppwNFTabfA",
        "colab_type": "code",
        "colab": {}
      },
      "cell_type": "code",
      "source": [
        "input_of_words=[]\n",
        "\n",
        "sum1=0;\n",
        "\n",
        "\n",
        "for i in data1:\n",
        "  input_of_words.append(model[i])\n",
        "  max_y=max(max_y,len(model[i]))\n",
        "  "
      ],
      "execution_count": 0,
      "outputs": []
    },
    {
      "metadata": {
        "id": "UKbE5rAGaigW",
        "colab_type": "code",
        "outputId": "a5461de2-00ed-493c-b82f-c2f0ba4fc32f",
        "colab": {
          "base_uri": "https://localhost:8080/",
          "height": 52
        }
      },
      "cell_type": "code",
      "source": [
        "print(max_x)\n",
        "print(max_y)"
      ],
      "execution_count": 0,
      "outputs": [
        {
          "output_type": "stream",
          "text": [
            "23\n",
            "30\n"
          ],
          "name": "stdout"
        }
      ]
    },
    {
      "metadata": {
        "id": "XWhEr4lbamW4",
        "colab_type": "code",
        "colab": {}
      },
      "cell_type": "code",
      "source": [
        "from keras.preprocessing import sequence\n",
        "from keras.models import Model\n",
        "from keras.models import Sequential\n",
        "from keras.layers import Dense\n",
        "from keras.layers import LSTM,Input\n",
        "from keras.layers import Lambda\n",
        "import numpy as np\n",
        "from keras.layers import TimeDistributed\n",
        "regressor=Sequential()"
      ],
      "execution_count": 0,
      "outputs": []
    },
    {
      "metadata": {
        "id": "Seg979nXarZ0",
        "colab_type": "code",
        "colab": {}
      },
      "cell_type": "code",
      "source": [
        "input_of_words=np.array(input_of_words)\n",
        "output_of_words=np.array(output_of_words)"
      ],
      "execution_count": 0,
      "outputs": []
    },
    {
      "metadata": {
        "id": "iMW4xoDIsCT2",
        "colab_type": "code",
        "colab": {}
      },
      "cell_type": "code",
      "source": [
        "def change(sent,new_val,max_l,r):\n",
        "  \n",
        "  z=np.zeros([1,100])\n",
        "  cc=49\n",
        "  k=0\n",
        "  \n",
        "  for i in sent:\n",
        " \n",
        "    if cc>0:\n",
        "      count=max_l-i.shape[0]\n",
        "      \n",
        "      while count>0:\n",
        "      \n",
        "        i=np.concatenate((i, z)) \n",
        "      \n",
        "        count=count-1\n",
        "      \n",
        "      \n",
        "      new_val[k]=i\n",
        "      k=k+1\n",
        "    \n",
        "    \n",
        "      cc=cc-1\n",
        "  \n",
        "    else:\n",
        "      break\n",
        "  return new_val"
      ],
      "execution_count": 0,
      "outputs": []
    },
    {
      "metadata": {
        "id": "NNdGBt3eawZ4",
        "colab_type": "code",
        "outputId": "fb940403-92f8-4496-e0a7-1fd268cd3e32",
        "colab": {
          "base_uri": "https://localhost:8080/",
          "height": 358
        }
      },
      "cell_type": "code",
      "source": [
        "\n",
        "#padding the values\n",
        "\n",
        "new_input=np.zeros([49,30,100])\n",
        "new_input=change(input_of_words,new_input,max_y,513)\n",
        "new_output=np.zeros([49,23,100])\n",
        "new_output=change(output_of_words,new_output,max_x,524)\n"
      ],
      "execution_count": 0,
      "outputs": [
        {
          "output_type": "error",
          "ename": "ValueError",
          "evalue": "ignored",
          "traceback": [
            "\u001b[0;31m---------------------------------------------------------------------------\u001b[0m",
            "\u001b[0;31mValueError\u001b[0m                                Traceback (most recent call last)",
            "\u001b[0;32m<ipython-input-71-25ea284c3c6e>\u001b[0m in \u001b[0;36m<module>\u001b[0;34m()\u001b[0m\n\u001b[1;32m      1\u001b[0m \u001b[0;34m\u001b[0m\u001b[0m\n\u001b[1;32m      2\u001b[0m \u001b[0mnew_input\u001b[0m\u001b[0;34m=\u001b[0m\u001b[0mnp\u001b[0m\u001b[0;34m.\u001b[0m\u001b[0mzeros\u001b[0m\u001b[0;34m(\u001b[0m\u001b[0;34m[\u001b[0m\u001b[0;36m49\u001b[0m\u001b[0;34m,\u001b[0m\u001b[0;36m30\u001b[0m\u001b[0;34m,\u001b[0m\u001b[0;36m100\u001b[0m\u001b[0;34m]\u001b[0m\u001b[0;34m)\u001b[0m\u001b[0;34m\u001b[0m\u001b[0;34m\u001b[0m\u001b[0m\n\u001b[0;32m----> 3\u001b[0;31m \u001b[0mnew_input\u001b[0m\u001b[0;34m=\u001b[0m\u001b[0mchange\u001b[0m\u001b[0;34m(\u001b[0m\u001b[0minput_of_words\u001b[0m\u001b[0;34m,\u001b[0m\u001b[0mnew_input\u001b[0m\u001b[0;34m,\u001b[0m\u001b[0mmax_y\u001b[0m\u001b[0;34m,\u001b[0m\u001b[0;36m513\u001b[0m\u001b[0;34m)\u001b[0m\u001b[0;34m\u001b[0m\u001b[0;34m\u001b[0m\u001b[0m\n\u001b[0m\u001b[1;32m      4\u001b[0m \u001b[0mnew_output\u001b[0m\u001b[0;34m=\u001b[0m\u001b[0mnp\u001b[0m\u001b[0;34m.\u001b[0m\u001b[0mzeros\u001b[0m\u001b[0;34m(\u001b[0m\u001b[0;34m[\u001b[0m\u001b[0;36m49\u001b[0m\u001b[0;34m,\u001b[0m\u001b[0;36m23\u001b[0m\u001b[0;34m,\u001b[0m\u001b[0;36m100\u001b[0m\u001b[0;34m]\u001b[0m\u001b[0;34m)\u001b[0m\u001b[0;34m\u001b[0m\u001b[0;34m\u001b[0m\u001b[0m\n\u001b[1;32m      5\u001b[0m \u001b[0mnew_output\u001b[0m\u001b[0;34m=\u001b[0m\u001b[0mchange\u001b[0m\u001b[0;34m(\u001b[0m\u001b[0moutput_of_words\u001b[0m\u001b[0;34m,\u001b[0m\u001b[0mnew_output\u001b[0m\u001b[0;34m,\u001b[0m\u001b[0mmax_x\u001b[0m\u001b[0;34m,\u001b[0m\u001b[0;36m524\u001b[0m\u001b[0;34m)\u001b[0m\u001b[0;34m\u001b[0m\u001b[0;34m\u001b[0m\u001b[0m\n",
            "\u001b[0;32m<ipython-input-69-c6afe5aa73fc>\u001b[0m in \u001b[0;36mchange\u001b[0;34m(sent, new_val, max_l, r)\u001b[0m\n\u001b[1;32m     12\u001b[0m       \u001b[0;32mwhile\u001b[0m \u001b[0mcount\u001b[0m\u001b[0;34m>\u001b[0m\u001b[0;36m0\u001b[0m\u001b[0;34m:\u001b[0m\u001b[0;34m\u001b[0m\u001b[0;34m\u001b[0m\u001b[0m\n\u001b[1;32m     13\u001b[0m \u001b[0;34m\u001b[0m\u001b[0m\n\u001b[0;32m---> 14\u001b[0;31m         \u001b[0mi\u001b[0m\u001b[0;34m=\u001b[0m\u001b[0mnp\u001b[0m\u001b[0;34m.\u001b[0m\u001b[0mconcatenate\u001b[0m\u001b[0;34m(\u001b[0m\u001b[0;34m(\u001b[0m\u001b[0mi\u001b[0m\u001b[0;34m,\u001b[0m \u001b[0mz\u001b[0m\u001b[0;34m)\u001b[0m\u001b[0;34m)\u001b[0m\u001b[0;34m\u001b[0m\u001b[0;34m\u001b[0m\u001b[0m\n\u001b[0m\u001b[1;32m     15\u001b[0m \u001b[0;34m\u001b[0m\u001b[0m\n\u001b[1;32m     16\u001b[0m         \u001b[0mcount\u001b[0m\u001b[0;34m=\u001b[0m\u001b[0mcount\u001b[0m\u001b[0;34m-\u001b[0m\u001b[0;36m1\u001b[0m\u001b[0;34m\u001b[0m\u001b[0;34m\u001b[0m\u001b[0m\n",
            "\u001b[0;31mValueError\u001b[0m: all the input array dimensions except for the concatenation axis must match exactly"
          ]
        }
      ]
    },
    {
      "metadata": {
        "id": "VC3lbXLXa3Rq",
        "colab_type": "code",
        "outputId": "6b17ec65-3397-4cbc-88f7-a019080c1f0e",
        "colab": {
          "base_uri": "https://localhost:8080/",
          "height": 52
        }
      },
      "cell_type": "code",
      "source": [
        "print(new_input.shape)\n",
        "new_output.shape"
      ],
      "execution_count": 0,
      "outputs": [
        {
          "output_type": "stream",
          "text": [
            "(49, 30, 100)\n"
          ],
          "name": "stdout"
        },
        {
          "output_type": "execute_result",
          "data": {
            "text/plain": [
              "(49, 23, 100)"
            ]
          },
          "metadata": {
            "tags": []
          },
          "execution_count": 32
        }
      ]
    },
    {
      "metadata": {
        "id": "XLWHXyofa7W2",
        "colab_type": "code",
        "outputId": "30b68080-73ef-4c6b-976f-e3b1f8cc8755",
        "colab": {
          "base_uri": "https://localhost:8080/",
          "height": 451
        }
      },
      "cell_type": "code",
      "source": [
        "regressor.add(LSTM(units=100,activation='sigmoid',return_sequences=True,input_shape=(30,100)))\n",
        "\n",
        "regressor.add(Lambda(lambda x: x[:, -23:, :]))\n",
        "                     \n",
        "regressor.compile(optimizer='adam',loss='binary_crossentropy', metrics = ['accuracy'])\n",
        "regressor.add(Dropout(0.2))\n",
        "regressor.fit(new_input,new_output,batch_size=1,epochs=12)\n"
      ],
      "execution_count": 0,
      "outputs": [
        {
          "output_type": "stream",
          "text": [
            "Epoch 1/12\n",
            "49/49 [==============================] - 5s 98ms/step - loss: 0.2876 - acc: 0.5439\n",
            "Epoch 2/12\n",
            "49/49 [==============================] - 4s 74ms/step - loss: 0.1936 - acc: 0.5439\n",
            "Epoch 3/12\n",
            "49/49 [==============================] - 4s 74ms/step - loss: 0.1591 - acc: 0.5439\n",
            "Epoch 4/12\n",
            "49/49 [==============================] - 4s 74ms/step - loss: 0.1473 - acc: 0.5439\n",
            "Epoch 5/12\n",
            "49/49 [==============================] - 4s 75ms/step - loss: 0.1418 - acc: 0.5439\n",
            "Epoch 6/12\n",
            "49/49 [==============================] - 4s 74ms/step - loss: 0.1360 - acc: 0.5439\n",
            "Epoch 7/12\n",
            "49/49 [==============================] - 4s 74ms/step - loss: 0.1291 - acc: 0.5439\n",
            "Epoch 8/12\n",
            "49/49 [==============================] - 4s 74ms/step - loss: 0.1213 - acc: 0.5439\n",
            "Epoch 9/12\n",
            "49/49 [==============================] - 4s 73ms/step - loss: 0.1129 - acc: 0.5439\n",
            "Epoch 10/12\n",
            "49/49 [==============================] - 4s 73ms/step - loss: 0.1039 - acc: 0.5439\n",
            "Epoch 11/12\n",
            "49/49 [==============================] - 4s 74ms/step - loss: 0.0948 - acc: 0.5439\n",
            "Epoch 12/12\n",
            "49/49 [==============================] - 4s 75ms/step - loss: 0.0863 - acc: 0.5439\n"
          ],
          "name": "stdout"
        },
        {
          "output_type": "execute_result",
          "data": {
            "text/plain": [
              "<keras.callbacks.History at 0x7f1a1211fa58>"
            ]
          },
          "metadata": {
            "tags": []
          },
          "execution_count": 33
        }
      ]
    },
    {
      "metadata": {
        "id": "auR6fSwXIHVW",
        "colab_type": "code",
        "outputId": "2ef00105-393d-4f88-a9af-eb31a5687fc6",
        "colab": {
          "base_uri": "https://localhost:8080/",
          "height": 173
        }
      },
      "cell_type": "code",
      "source": [
        "#testing LSTM Model\n",
        "\n",
        "preds=regressor.predict(new_inwo)\n",
        "print(preds)\n",
        "\n",
        "\n",
        "for i in range(0,len(new_inwo)):\n",
        "    sampled_token_index=np.argmax(preds[0][i])\n",
        "    print(sampled_token_index) \n",
        "\n",
        "print(eng_ind_to_char[sampled_token_index])"
      ],
      "execution_count": 0,
      "outputs": [
        {
          "output_type": "stream",
          "text": [
            "[[[0.         0.11861545 0.01986224 ... 0.         0.1491334  0.07991961]\n",
            "  [0.02970751 0.13553502 0.07699816 ... 0.06047178 0.15412298 0.10287002]\n",
            "  [0.         0.12122726 0.03356201 ... 0.00878258 0.14928876 0.08411054]\n",
            "  ...\n",
            "  [0.         0.12740909 0.05540852 ... 0.03472586 0.15074748 0.09191865]\n",
            "  [0.         0.12762056 0.05604584 ... 0.03544764 0.15082482 0.09217865]\n",
            "  [0.         0.12744991 0.05553132 ... 0.03486605 0.15076356 0.09196711]]]\n",
            "10\n",
            "self-confidence\n"
          ],
          "name": "stdout"
        }
      ]
    },
    {
      "metadata": {
        "id": "A9LJXq0oKLoE",
        "colab_type": "code",
        "colab": {}
      },
      "cell_type": "code",
      "source": [
        "#   ----------sequence to sequence------------ \n",
        "\n"
      ],
      "execution_count": 0,
      "outputs": []
    },
    {
      "metadata": {
        "id": "sYvUxzkir_q9",
        "colab_type": "code",
        "colab": {}
      },
      "cell_type": "code",
      "source": [
        "### sequence to sequence\n",
        "\n",
        "#ENCODER MODEL\n",
        "'''\n",
        "encoder_input=Input(shape=(30,100))\n",
        "\n",
        "encoder=LSTM(100,return_state=True)\n",
        "\n",
        "encoder_outputs,encoder_h,encoder_c= encoder(encoder_input)\n",
        "\n",
        "\n",
        "\n",
        "encoder_states=[encoder_h,encoder_c]\n",
        "'''"
      ],
      "execution_count": 0,
      "outputs": []
    },
    {
      "metadata": {
        "id": "c646DKf6tjIy",
        "colab_type": "code",
        "outputId": "4db33ac3-0057-43c0-b064-5ac7b6043634",
        "colab": {
          "base_uri": "https://localhost:8080/",
          "height": 34
        }
      },
      "cell_type": "code",
      "source": [
        "encoder_input"
      ],
      "execution_count": 0,
      "outputs": [
        {
          "output_type": "execute_result",
          "data": {
            "text/plain": [
              "<tf.Tensor 'input_5:0' shape=(?, 30, 100) dtype=float32>"
            ]
          },
          "metadata": {
            "tags": []
          },
          "execution_count": 90
        }
      ]
    },
    {
      "metadata": {
        "id": "Iajqy-7mMfro",
        "colab_type": "code",
        "outputId": "8ec78709-7add-4d81-8355-2a7c5433ce7b",
        "colab": {
          "base_uri": "https://localhost:8080/",
          "height": 34
        }
      },
      "cell_type": "code",
      "source": [
        "print(encoder_h)"
      ],
      "execution_count": 0,
      "outputs": [
        {
          "output_type": "stream",
          "text": [
            "Tensor(\"lstm_5/while/Exit_3:0\", shape=(?, 100), dtype=float32)\n"
          ],
          "name": "stdout"
        }
      ]
    },
    {
      "metadata": {
        "id": "wFuX7dYkMpss",
        "colab_type": "code",
        "outputId": "047f2e27-0568-43f2-886f-3e79a2361443",
        "colab": {
          "base_uri": "https://localhost:8080/",
          "height": 34
        }
      },
      "cell_type": "code",
      "source": [
        "encoder_c"
      ],
      "execution_count": 0,
      "outputs": [
        {
          "output_type": "execute_result",
          "data": {
            "text/plain": [
              "<tf.Tensor 'lstm_5/while/Exit_4:0' shape=(?, 100) dtype=float32>"
            ]
          },
          "metadata": {
            "tags": []
          },
          "execution_count": 92
        }
      ]
    },
    {
      "metadata": {
        "id": "D6koxSqKMuF0",
        "colab_type": "code",
        "outputId": "eefa3c6d-4767-4922-ccfb-449c92de9fdb",
        "colab": {
          "base_uri": "https://localhost:8080/",
          "height": 34
        }
      },
      "cell_type": "code",
      "source": [
        "encoder_outputs\n"
      ],
      "execution_count": 0,
      "outputs": [
        {
          "output_type": "execute_result",
          "data": {
            "text/plain": [
              "<tf.Tensor 'lstm_5/TensorArrayReadV3:0' shape=(?, 100) dtype=float32>"
            ]
          },
          "metadata": {
            "tags": []
          },
          "execution_count": 93
        }
      ]
    },
    {
      "metadata": {
        "id": "xTlwVVb-E-im",
        "colab_type": "code",
        "colab": {}
      },
      "cell_type": "code",
      "source": [
        "#Decoder Model\n",
        "\n",
        "decoder_input=Input(shape=(None,100))\n",
        "decoder_LSTM=LSTM(100,return_sequences=True,return_state=True)\n",
        "decoder_out, _ , _ = decoder_LSTM(decoder_input, initial_state=encoder_states)\n",
        "decoder_dense = Dense(100,activation='softmax')\n",
        "decoder_out = decoder_dense (decoder_out)\n",
        "\n"
      ],
      "execution_count": 0,
      "outputs": []
    },
    {
      "metadata": {
        "id": "36wir-84Wr9q",
        "colab_type": "code",
        "outputId": "f4452fa1-c9ce-4088-f9e1-8b27f83dfee0",
        "colab": {
          "base_uri": "https://localhost:8080/",
          "height": 34
        }
      },
      "cell_type": "code",
      "source": [
        "\n",
        "decoder_out\n",
        "\n"
      ],
      "execution_count": 0,
      "outputs": [
        {
          "output_type": "execute_result",
          "data": {
            "text/plain": [
              "<tf.Tensor 'dense_2/truediv:0' shape=(?, ?, 100) dtype=float32>"
            ]
          },
          "metadata": {
            "tags": []
          },
          "execution_count": 95
        }
      ]
    },
    {
      "metadata": {
        "id": "f5Jh6uYHYQh0",
        "colab_type": "code",
        "outputId": "2141181a-8b1a-4454-cbf9-a0b73ee93080",
        "colab": {
          "base_uri": "https://localhost:8080/",
          "height": 34
        }
      },
      "cell_type": "code",
      "source": [
        "decoder_input"
      ],
      "execution_count": 0,
      "outputs": [
        {
          "output_type": "execute_result",
          "data": {
            "text/plain": [
              "<tf.Tensor 'input_6:0' shape=(?, ?, 100) dtype=float32>"
            ]
          },
          "metadata": {
            "tags": []
          },
          "execution_count": 96
        }
      ]
    },
    {
      "metadata": {
        "id": "Nn481IGJG_XY",
        "colab_type": "code",
        "outputId": "9de994e6-f910-4544-a1e5-3abb882dc138",
        "colab": {
          "base_uri": "https://localhost:8080/",
          "height": 555
        }
      },
      "cell_type": "code",
      "source": [
        "model = Model(inputs=[encoder_input, decoder_input],outputs=[decoder_out])\n",
        "\n",
        "# Run training\n",
        "model.compile(optimizer='rmsprop', loss='categorical_crossentropy',metrics = ['accuracy'])\n",
        "model.fit(x=[new_input, new_output], \n",
        "          y=new_output,\n",
        "          batch_size=1,\n",
        "          epochs=15)"
      ],
      "execution_count": 0,
      "outputs": [
        {
          "output_type": "stream",
          "text": [
            "Epoch 1/15\n",
            "49/49 [==============================] - 7s 149ms/step - loss: -0.0480 - acc: 0.0364\n",
            "Epoch 2/15\n",
            "49/49 [==============================] - 6s 122ms/step - loss: -0.1090 - acc: 0.0435\n",
            "Epoch 3/15\n",
            "49/49 [==============================] - 6s 123ms/step - loss: -0.1229 - acc: 0.0399\n",
            "Epoch 4/15\n",
            "49/49 [==============================] - 6s 122ms/step - loss: -0.1272 - acc: 0.0382\n",
            "Epoch 5/15\n",
            "49/49 [==============================] - 6s 123ms/step - loss: -0.1288 - acc: 0.0399\n",
            "Epoch 6/15\n",
            "49/49 [==============================] - 6s 123ms/step - loss: -0.1299 - acc: 0.0337\n",
            "Epoch 7/15\n",
            "49/49 [==============================] - 6s 123ms/step - loss: -0.1303 - acc: 0.0408\n",
            "Epoch 8/15\n",
            "49/49 [==============================] - 6s 122ms/step - loss: -0.1309 - acc: 0.0337\n",
            "Epoch 9/15\n",
            "49/49 [==============================] - 6s 122ms/step - loss: -0.1312 - acc: 0.0373\n",
            "Epoch 10/15\n",
            "49/49 [==============================] - 6s 122ms/step - loss: -0.1317 - acc: 0.0293\n",
            "Epoch 11/15\n",
            "49/49 [==============================] - 6s 122ms/step - loss: -0.1319 - acc: 0.0390\n",
            "Epoch 12/15\n",
            "49/49 [==============================] - 6s 122ms/step - loss: -0.1323 - acc: 0.0355\n",
            "Epoch 13/15\n",
            "49/49 [==============================] - 6s 122ms/step - loss: -0.1328 - acc: 0.0302\n",
            "Epoch 14/15\n",
            "49/49 [==============================] - 6s 122ms/step - loss: -0.1329 - acc: 0.0355\n",
            "Epoch 15/15\n",
            "49/49 [==============================] - 6s 121ms/step - loss: -0.1334 - acc: 0.0382\n"
          ],
          "name": "stdout"
        },
        {
          "output_type": "execute_result",
          "data": {
            "text/plain": [
              "<keras.callbacks.History at 0x7efc8d211390>"
            ]
          },
          "metadata": {
            "tags": []
          },
          "execution_count": 97
        }
      ]
    },
    {
      "metadata": {
        "id": "3XBCw_AnrMt2",
        "colab_type": "code",
        "outputId": "50211ae7-aea8-4efa-b467-2c7d615f3824",
        "colab": {
          "base_uri": "https://localhost:8080/",
          "height": 208
        }
      },
      "cell_type": "code",
      "source": [
        "#testing encoder-decoder\n",
        "\n",
        "encoder_model_inf = Model(encoder_input, encoder_states)\n",
        "\n",
        "encoder_model_inf.summary()\n",
        "\n",
        "# Decoder inference model\n",
        "decoder_state_input_h = Input(shape=(100,))\n",
        "\n",
        "decoder_state_input_c = Input(shape=(100,))\n",
        "\n",
        "\n",
        "decoder_input_states = [decoder_state_input_h, decoder_state_input_c]\n"
      ],
      "execution_count": 0,
      "outputs": [
        {
          "output_type": "stream",
          "text": [
            "_________________________________________________________________\n",
            "Layer (type)                 Output Shape              Param #   \n",
            "=================================================================\n",
            "input_5 (InputLayer)         (None, 30, 100)           0         \n",
            "_________________________________________________________________\n",
            "lstm_5 (LSTM)                [(None, 100), (None, 100) 80400     \n",
            "=================================================================\n",
            "Total params: 80,400\n",
            "Trainable params: 80,400\n",
            "Non-trainable params: 0\n",
            "_________________________________________________________________\n"
          ],
          "name": "stdout"
        }
      ]
    },
    {
      "metadata": {
        "id": "Wn-te3puWMOy",
        "colab_type": "code",
        "outputId": "cf96de23-3bea-4a77-e99c-da568e09f85c",
        "colab": {
          "base_uri": "https://localhost:8080/",
          "height": 52
        }
      },
      "cell_type": "code",
      "source": [
        "decoder_input_states"
      ],
      "execution_count": 0,
      "outputs": [
        {
          "output_type": "execute_result",
          "data": {
            "text/plain": [
              "[<tf.Tensor 'input_7:0' shape=(?, 100) dtype=float32>,\n",
              " <tf.Tensor 'input_8:0' shape=(?, 100) dtype=float32>]"
            ]
          },
          "metadata": {
            "tags": []
          },
          "execution_count": 99
        }
      ]
    },
    {
      "metadata": {
        "id": "5c-g7RVAWIzc",
        "colab_type": "code",
        "outputId": "ec078f88-8168-458b-e0d2-6facc263b479",
        "colab": {
          "base_uri": "https://localhost:8080/",
          "height": 54
        }
      },
      "cell_type": "code",
      "source": [
        "\n",
        "\n",
        "\n",
        "decoder_out, decoder_h, decoder_c = decoder_LSTM(decoder_input, \n",
        "                                                 initial_state=decoder_input_states)\n",
        "decoder_states = [decoder_h , decoder_c]\n",
        "\n",
        "print(decoder_states)"
      ],
      "execution_count": 0,
      "outputs": [
        {
          "output_type": "stream",
          "text": [
            "[<tf.Tensor 'lstm_6_1/while/Exit_2:0' shape=(?, 100) dtype=float32>, <tf.Tensor 'lstm_6_1/while/Exit_3:0' shape=(?, 100) dtype=float32>]\n"
          ],
          "name": "stdout"
        }
      ]
    },
    {
      "metadata": {
        "id": "c-MV45FSYliS",
        "colab_type": "code",
        "outputId": "a91b8e66-fb62-488e-d617-0915935ac280",
        "colab": {
          "base_uri": "https://localhost:8080/",
          "height": 34
        }
      },
      "cell_type": "code",
      "source": [
        "decoder_out = decoder_dense(decoder_out)\n",
        "decoder_out\n"
      ],
      "execution_count": 0,
      "outputs": [
        {
          "output_type": "execute_result",
          "data": {
            "text/plain": [
              "<tf.Tensor 'dense_2_1/truediv:0' shape=(?, ?, 100) dtype=float32>"
            ]
          },
          "metadata": {
            "tags": []
          },
          "execution_count": 101
        }
      ]
    },
    {
      "metadata": {
        "id": "wVMFvfkiY3_A",
        "colab_type": "code",
        "outputId": "c15af37d-bdea-4f2d-a92d-86550c682ffc",
        "colab": {
          "base_uri": "https://localhost:8080/",
          "height": 208
        }
      },
      "cell_type": "code",
      "source": [
        "decoder_model_inf = Model(inputs=[decoder_input] + decoder_input_states,\n",
        "                          outputs=[decoder_out] + decoder_states )\n",
        "\n",
        "encoder_model_inf.summary()-"
      ],
      "execution_count": 0,
      "outputs": [
        {
          "output_type": "stream",
          "text": [
            "_________________________________________________________________\n",
            "Layer (type)                 Output Shape              Param #   \n",
            "=================================================================\n",
            "input_5 (InputLayer)         (None, 30, 100)           0         \n",
            "_________________________________________________________________\n",
            "lstm_5 (LSTM)                [(None, 100), (None, 100) 80400     \n",
            "=================================================================\n",
            "Total params: 80,400\n",
            "Trainable params: 80,400\n",
            "Non-trainable params: 0\n",
            "_________________________________________________________________\n"
          ],
          "name": "stdout"
        }
      ]
    },
    {
      "metadata": {
        "id": "fzi-8zdzZB86",
        "colab_type": "code",
        "colab": {}
      },
      "cell_type": "code",
      "source": [
        "def decode_seq(inp_seq,x):\n",
        "    \n",
        "    # Initial states value is coming from the encoder \n",
        "    states_val = encoder_model_inf.predict(inp_seq)\n",
        "    \n",
        "    \n",
        "    \n",
        "    target_seq = np.zeros((1,1,100))\n",
        "   \n",
        "    translated_sent = ''\n",
        "   \n",
        "   \n",
        "    stop_condition = False\n",
        "    \n",
        "    \n",
        "    while not stop_condition:\n",
        "        \n",
        "        decoder_out, decoder_h, decoder_c = decoder_model_inf.predict(x=[target_seq]+ states_val)\n",
        "        \n",
        "        max_val_index = np.argmax(decoder_out[0,-1,:])\n",
        "       \n",
        "      \n",
        "        sampled_fra_word = eng_ind_to_char[max_val_index]\n",
        "        \n",
        "        \n",
        "        translated_sent += sampled_fra_word+' '\n",
        "        \n",
        "        if ( (sampled_fra_word == '\\n') or (len(translated_sent) > max_x)) :\n",
        "            stop_condition = True\n",
        "       \n",
        "      \n",
        "        target_seq = np.zeros((1, 1,100))\n",
        "        \n",
        "        target_seq[0, 0 ,max_val_index]=1\n",
        "        \n",
        "        states_val = [decoder_h, decoder_c]\n",
        "        \n",
        "    return translated_sent\n",
        "   "
      ],
      "execution_count": 0,
      "outputs": []
    },
    {
      "metadata": {
        "id": "QSehcYHlmFM2",
        "colab_type": "code",
        "colab": {}
      },
      "cell_type": "code",
      "source": [
        "input_test='ताजा साँसें और चमचमाते दाँत आपके व्यक्तित्व को निखारते हैं'\n",
        "\n",
        "temp=[]\n",
        "data3=[]\n",
        "for i in word_tokenize(input_test): \n",
        "    temp.append(i)\n",
        "len1=len(temp)    \n",
        "data3.append(temp)\n",
        "\n",
        "model3=Word2Vec(data3, min_count = 1, size = 100)\n",
        " \n",
        "in_wo=[]\n",
        "\n",
        "for i in data3:\n",
        "  in_wo.append(model3[i])\n",
        "  \n",
        "\n",
        "\n"
      ],
      "execution_count": 0,
      "outputs": []
    },
    {
      "metadata": {
        "id": "1gINcJonEzE0",
        "colab_type": "code",
        "colab": {}
      },
      "cell_type": "code",
      "source": [
        "\n",
        "#padding of input_sentence\n",
        "\n",
        "x=len(in_wo[0])\n",
        "\n",
        "\n",
        "in_wo=np.array(in_wo)\n",
        "\n",
        "\n",
        "new_inwo=np.zeros([1,30,100])\n",
        "\n",
        "new_inwo=change(in_wo,new_inwo,max_y)\n",
        "\n"
      ],
      "execution_count": 0,
      "outputs": []
    },
    {
      "metadata": {
        "id": "IvwTrKxQEmlM",
        "colab_type": "code",
        "outputId": "1be3af70-18e6-464f-8291-db83bb4bee44",
        "colab": {
          "base_uri": "https://localhost:8080/",
          "height": 34
        }
      },
      "cell_type": "code",
      "source": [
        "translated_sent = decode_seq(new_inwo,len(new_inwo))\n",
        "\n",
        "translated_sent\n"
      ],
      "execution_count": 0,
      "outputs": [
        {
          "output_type": "execute_result",
          "data": {
            "text/plain": [
              "'. . . given given given '"
            ]
          },
          "metadata": {
            "tags": []
          },
          "execution_count": 110
        }
      ]
    }
  ]
}